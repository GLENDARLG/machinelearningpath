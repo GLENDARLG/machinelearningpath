{
 "cells": [
  {
   "cell_type": "markdown",
   "id": "0e548627",
   "metadata": {},
   "source": [
    "¿Cuáles son los elementos básicos de la matemática en álgebra lineal?\n",
    "El aprendizaje de los fundamentos de álgebra lineal es esencial para emprender cualquier estudio de algoritmos avanzados como Machine Learning, Deep Learning y análisis de datos. Los conceptos básicos que exploraremos incluyen: escalar, vector, matriz y tensor.\n",
    "\n",
    "¿Qué es un escalar?\n",
    "En matemática, un escalar es simplemente un número único. Esto puede ser un número entero, un punto flotante (número con decimales), o un número complejo. No obstante, en Python, un escalar puede ser más flexible: además de ser cualquier tipo de número, también puede ser un string, o incluso una variable nula conocida como None.\n",
    "\n",
    "Si quieres profundizar en cómo Python maneja los escalares, Platzi ofrece cursos en los que puedes explorar más sobre las estructuras de datos en Python.\n",
    "\n",
    "¿Cómo reconocemos y definimos un vector?\n",
    "Un vector es un conjunto de números ordenados. Imagina una caja donde puedes colocar múltiples números organizados de una manera particular. En Python, los vectores pueden ser creados usando la librería NumPy, un paquete esencial para cualquier persona interesada en cálculos numéricos complejos.\n",
    "\n",
    "import numpy as np\n",
    "vector = np.array([1, 2, 3, 4])\n",
    "¿Qué es una matriz?\n",
    "La matriz es un paso más allá del vector, ya que da un mayor grado de libertad – podemos movernos a través de filas y columnas, creando así un sistema bidimensional de números.\n",
    "\n",
    "En Python, una matriz también se crea mediante NumPy, pero contiene múltiples vectores alineados.\n",
    "\n",
    "matriz = np.array([[1, 2, 3], [4, 5, 6], [7, 8, 9]])\n",
    "¿Cómo definimos un tensor?\n",
    "Finalmente, avanzamos hacia los tensores. Un tensor expande aún más la complejidad al añadir una tercera dimensión (o más) que agrupa múltiples matrices. Un tensor es esencial para realizar cálculos más complejos y para el trabajo con datos de múltiples dimensiones, como las imágenes.\n",
    "\n",
    "tensor = np.array([\n",
    "    [[1, 2], [3, 4]], \n",
    "    [[5, 6], [7, 8]], \n",
    "    [[9, 10], [11, 12]]\n",
    "])\n",
    "¿Cómo se grafican los tensores?\n",
    "Es interesante visualizar un tensor cuando contiene datos que podrían corresponder a imágenes, lo cual es común en Deep Learning. Usamos la librería Matplotlib para su representación visual.\n",
    "\n",
    "import matplotlib.pyplot as plt\n",
    "\n",
    "# Configurar para que los gráficos aparezcan debajo de la celda\n",
    "%matplotlib inline\n",
    "\n",
    "# Crear y mostrar una visualización del tensor\n",
    "plt.imshow(tensor[0], interpolation='nearest')\n",
    "plt.show()\n",
    "Consejos prácticos para practicar\n",
    "Ahora que comprendes los conceptos clave, te animo a practicar creando distintas estructuras:\n",
    "\n",
    "Escalar: Crea un escalar en Python con el número 42.\n",
    "Vector: Define un vector que contenga los números primos 2, 3, 5 y 7.\n",
    "Matriz: Genera una matriz de tamaño 3x2.\n",
    "Tensor: Representa un tensor donde la primera fila sea blanca, la segunda negra, y la tercera gris.\n",
    "Comparte tus resultados y cualquier duda en el sistema de discusiones de la plataforma. ¡Tu aportación enriquece la comunidad y afianci lecho lo aprendido!"
   ]
  },
  {
   "cell_type": "code",
   "execution_count": 3,
   "id": "732b4750",
   "metadata": {},
   "outputs": [
    {
     "name": "stdout",
     "output_type": "stream",
     "text": [
      "True\n",
      "<class 'bool'>\n"
     ]
    }
   ],
   "source": [
    "escalr = 6.63\n",
    "escalar_pthon = True\n",
    "print(escalar_pthon)\n",
    "print(type(escalar_pthon))"
   ]
  },
  {
   "cell_type": "code",
   "execution_count": 9,
   "id": "1e105fcf",
   "metadata": {},
   "outputs": [
    {
     "name": "stdout",
     "output_type": "stream",
     "text": [
      "[1 2 3 4]\n"
     ]
    }
   ],
   "source": [
    "import numpy as np\n",
    "vector = np.array([1,2,3,4])\n",
    "print(vector)"
   ]
  },
  {
   "cell_type": "code",
   "execution_count": 11,
   "id": "34bb6e9b",
   "metadata": {},
   "outputs": [
    {
     "name": "stdout",
     "output_type": "stream",
     "text": [
      "[[1 1 1]\n",
      " [2 2 2]\n",
      " [3 3 3]]\n"
     ]
    }
   ],
   "source": [
    "matriz = np.array([[1,1,1],[2,2,2],[3,3,3,]])\n",
    "print(matriz)"
   ]
  },
  {
   "cell_type": "code",
   "execution_count": 14,
   "id": "99640977",
   "metadata": {},
   "outputs": [
    {
     "name": "stdout",
     "output_type": "stream",
     "text": [
      "[[[ 1  1  1]\n",
      "  [ 2  2  2]\n",
      "  [ 3  3  3]]\n",
      "\n",
      " [[ 5  5  5]\n",
      "  [ 4  4  6]\n",
      "  [ 6  6  6]]\n",
      "\n",
      " [[10 10 10]\n",
      "  [11 11 11]\n",
      "  [11 11 11]]]\n"
     ]
    }
   ],
   "source": [
    "tensor = np.array([\n",
    "    [[1,1,1],[2,2,2],[3,3,3]],\n",
    "    [[5,5,5],[4,4,6],[6,6,6]],\n",
    "    [[10,10,10],[11,11,11],[11,11,11]]\n",
    "])\n",
    "print(tensor)"
   ]
  },
  {
   "cell_type": "code",
   "execution_count": 15,
   "id": "0e9b7037",
   "metadata": {},
   "outputs": [
    {
     "data": {
      "image/png": "[encoded data removed]",
      "text/plain": [
       "<Figure size 640x480 with 1 Axes>"
      ]
     },
     "metadata": {},
     "output_type": "display_data"
    }
   ],
   "source": [
    "%matplotlib inline\n",
    "import matplotlib.pyplot as plt\n",
    "\n",
    "plt.imshow(tensor,interpolation='nearest')\n",
    "plt.show()"
   ]
  },
  {
   "cell_type": "code",
   "execution_count": 23,
   "id": "eaea8373",
   "metadata": {},
   "outputs": [
    {
     "name": "stdout",
     "output_type": "stream",
     "text": [
      "[[[  1   1   1]\n",
      "  [  1   1   1]\n",
      "  [  1   1   1]]\n",
      "\n",
      " [[128 128 128]\n",
      "  [128 128 128]\n",
      "  [128 128 128]]\n",
      "\n",
      " [[255 255 255]\n",
      "  [255 255 255]\n",
      "  [255 255 255]]]\n"
     ]
    },
    {
     "data": {
      "image/png": "[encoded data removed]",
      "text/plain": [
       "<Figure size 640x480 with 1 Axes>"
      ]
     },
     "metadata": {},
     "output_type": "display_data"
    }
   ],
   "source": [
    "tensor = np.array([\n",
    "    [[1,1,1],[1,1,1],[1,1,1]],\n",
    "    [[128,128,128],[128,128,128],[128,128,128]],\n",
    "    [[255,255,255],[255,255,255],[255,255,255]]\n",
    "])\n",
    "print(tensor)\n",
    "plt.imshow(tensor,interpolation='hamming')\n",
    "plt.show()"
   ]
  },
  {
   "cell_type": "markdown",
   "id": "62f3c3ff",
   "metadata": {},
   "source": [
    "methods = [None, 'none', 'nearest', 'bilinear', 'bicubic', 'spline16',\n",
    "           'spline36', 'hanning', 'hamming', 'hermite', 'kaiser', 'quadric',\n",
    "           'catrom', 'gaussian', 'bessel', 'mitchell', 'sinc', 'lanczos']"
   ]
  },
  {
   "cell_type": "code",
   "execution_count": null,
   "id": "d0959e27",
   "metadata": {},
   "outputs": [],
   "source": []
  }
 ],
 "metadata": {
  "kernelspec": {
   "display_name": "DE",
   "language": "python",
   "name": "python3"
  },
  "language_info": {
   "codemirror_mode": {
    "name": "ipython",
    "version": 3
   },
   "file_extension": ".py",
   "mimetype": "text/x-python",
   "name": "python",
   "nbconvert_exporter": "python",
   "pygments_lexer": "ipython3",
   "version": "3.10.16"
  }
 },
 "nbformat": 4,
 "nbformat_minor": 5
}
