{
 "cells": [
  {
   "cell_type": "markdown",
   "id": "3b0832f9",
   "metadata": {},
   "source": [
    "#¿Qué son las dimensiones y por qué son importantes en matrices y tensores?\n",
    "Las dimensiones de los elementos como escalares, vectores, matrices y tensores son un concepto fundamental en el manejo de datos en Python. La comprensión de las dimensiones ayuda a realizar cálculos correctamente y a interpretar los resultados esperados. A menudo, aunque una operación matemática no esté definida estrictamente, Python puede ejecutarla, lo que puede generar confusión. Por ello, entender cómo funcionan las dimensiones es crucial para garantizar que las operaciones que ejecutamos son las correctas.\n",
    "\n",
    "¿Cómo representamos las dimensiones en Python?\n",
    "En Python, utilizamos librerías para manejar las dimensiones y las operaciones sobre escalar, vector, matriz y tensor. Veamos algunos ejemplos:\n",
    "\n",
    "Escalar\n",
    "Un escalar es un elemento que no tiene dimensiones. Es simplemente un valor individual. Cuando verificamos su dimensión utilizando ciertas funciones en Python, el sistema nos indica que no posee este atributo.\n",
    "\n",
    "Vector\n",
    "Un vector se representa normalmente como un conjunto unidimensional de números. Por ejemplo, un vector con elementos [1, 2, 3] se considera que tiene una dimensión con tres elementos. Cuando usamos la función len para determinar su tamaño, obtendremos el número de elementos en la primera dimensión.\n",
    "\n",
    "Matriz\n",
    "Una matriz es una colección bidimensional de números. Por ejemplo, una matriz 2x2 tiene dos elementos en las filas y dos en las columnas. Utilizando la función len, se retorna el número de filas, mientras que shape proporciona una visión más completa, retornando un arreglo tal como [2, 2] que indica filas y columnas.\n",
    "\n",
    "Código de ejemplo para matrices:\n",
    "import numpy as np\n",
    "\n",
    "matriz = np.array([[1, 2], [3, 4]])\n",
    "print(\"Tamaño del arreglo:\", matriz.shape)  # Devuelve (2, 2)\n",
    "Tensor\n",
    "Los tensores son extensiones de las matrices a más dimensiones. Un tensor 3x3x3 es un arreglo tridimensional, donde le primero '3' representa el número de matrices en las primeras dos dimensiones. Este se utiliza comúnmente para representar datos complejos, como una serie de imágenes que cambian con el tiempo, siendo útil en la representación de videos.\n",
    "\n",
    "Ejemplo de manejo de tensores:\n",
    "tensor = np.ones((3, 3, 3))\n",
    "print(\"Forma del tensor:\", tensor.shape)  # Devuelve (3, 3, 3)\n",
    "Herramientas y funciones útiles para trabajar con dimensiones\n",
    "Al trabajar con Python, existen múltiples funciones que son útiles para obtener información relacionada a las dimensiones:\n",
    "\n",
    "len(): Devuelve la cantidad de elementos en la primera dimensión.\n",
    "shape: Proporciona todas las dimensiones de un objeto como una tupla.\n",
    "size: Calcula el total de elementos multiplicando todas las dimensiones, útil para entender el tamaño total de un objeto.\n",
    "Diferencias entre len() y shape\n",
    "Mientras que len() solo retiene el número de elementos en la primera dimensión, shape ofrece un panorama completo de todas las dimensiones del objeto. Esto es crucial al tratar con objetos más complejos como matrices y tensores, donde conocer todas las dimensiones nos permite asegurar que las operaciones que implementamos son las correctas.\n",
    "\n",
    "Consejos prácticos para estudiantes\n",
    "Al comenzar con matrices y tensores en Python:\n",
    "\n",
    "Experimenta creando varios vectores, matrices y tensores para practicar la interpretación de sus dimensiones.\n",
    "Usa la función shape en lugar de len para obtener información detallada sobre las dimensiones.\n",
    "Realiza operaciones con estos elementos y nota cómo cambian las dimensiones.\n",
    "Ejercítate en casos de uso, como la representación de un video mediante tensores, para familiarizarte con su aplicación práctica.\n",
    "Continúa explorando y no dudes en experimentar. Las matemáticas y las definiciones pueden parecer complejas, pero con práctica y determinación, dominarás el arte de las dimensiones en Python. ¡Sigue adelante y descubre el fascinante mundo de la programación y el procesamiento de datos!"
   ]
  },
  {
   "cell_type": "code",
   "execution_count": 2,
   "id": "7e5de08b",
   "metadata": {},
   "outputs": [],
   "source": [
    "import numpy as np"
   ]
  },
  {
   "cell_type": "code",
   "execution_count": 3,
   "id": "ce8e82ff",
   "metadata": {},
   "outputs": [
    {
     "ename": "AttributeError",
     "evalue": "'float' object has no attribute 'shape'",
     "output_type": "error",
     "traceback": [
      "\u001b[0;31m---------------------------------------------------------------------------\u001b[0m",
      "\u001b[0;31mAttributeError\u001b[0m                            Traceback (most recent call last)",
      "Cell \u001b[0;32mIn[3], line 10\u001b[0m\n\u001b[1;32m      3\u001b[0m matriz \u001b[38;5;241m=\u001b[39m np\u001b[38;5;241m.\u001b[39marray([[\u001b[38;5;241m1\u001b[39m,\u001b[38;5;241m2\u001b[39m],[\u001b[38;5;241m3\u001b[39m,\u001b[38;5;241m4\u001b[39m],[\u001b[38;5;241m5\u001b[39m,\u001b[38;5;241m6\u001b[39m]])\n\u001b[1;32m      4\u001b[0m tensor \u001b[38;5;241m=\u001b[39m np\u001b[38;5;241m.\u001b[39marray([\n\u001b[1;32m      5\u001b[0m     [[\u001b[38;5;241m1\u001b[39m,\u001b[38;5;241m2\u001b[39m,\u001b[38;5;241m3\u001b[39m],[\u001b[38;5;241m4\u001b[39m,\u001b[38;5;241m5\u001b[39m,\u001b[38;5;241m6\u001b[39m],[\u001b[38;5;241m7\u001b[39m,\u001b[38;5;241m8\u001b[39m,\u001b[38;5;241m9\u001b[39m]],\n\u001b[1;32m      6\u001b[0m     [[\u001b[38;5;241m11\u001b[39m,\u001b[38;5;241m12\u001b[39m,\u001b[38;5;241m13\u001b[39m],[\u001b[38;5;241m14\u001b[39m,\u001b[38;5;241m15\u001b[39m,\u001b[38;5;241m16\u001b[39m],[\u001b[38;5;241m17\u001b[39m,\u001b[38;5;241m18\u001b[39m,\u001b[38;5;241m19\u001b[39m]],\n\u001b[1;32m      7\u001b[0m     [[\u001b[38;5;241m21\u001b[39m,\u001b[38;5;241m22\u001b[39m,\u001b[38;5;241m23\u001b[39m],[\u001b[38;5;241m24\u001b[39m,\u001b[38;5;241m25\u001b[39m,\u001b[38;5;241m26\u001b[39m],[\u001b[38;5;241m27\u001b[39m,\u001b[38;5;241m28\u001b[39m,\u001b[38;5;241m29\u001b[39m]],\n\u001b[1;32m      8\u001b[0m     [[\u001b[38;5;241m31\u001b[39m,\u001b[38;5;241m32\u001b[39m,\u001b[38;5;241m33\u001b[39m],[\u001b[38;5;241m34\u001b[39m,\u001b[38;5;241m35\u001b[39m,\u001b[38;5;241m36\u001b[39m],[\u001b[38;5;241m37\u001b[39m,\u001b[38;5;241m38\u001b[39m,\u001b[38;5;241m39\u001b[39m]]\n\u001b[1;32m      9\u001b[0m ])\n\u001b[0;32m---> 10\u001b[0m \u001b[38;5;28mprint\u001b[39m(\u001b[38;5;124m'\u001b[39m\u001b[38;5;124mescalar.shape:\u001b[39m\u001b[38;5;124m'\u001b[39m,\u001b[43mescalar\u001b[49m\u001b[38;5;241;43m.\u001b[39;49m\u001b[43mshape\u001b[49m)\n",
      "\u001b[0;31mAttributeError\u001b[0m: 'float' object has no attribute 'shape'"
     ]
    }
   ],
   "source": [
    "escalar = 6.528\n",
    "vector = np.array([1,2,3])\n",
    "matriz = np.array([[1,2],[3,4],[5,6]])\n",
    "tensor = np.array([\n",
    "    [[1,2,3],[4,5,6],[7,8,9]],\n",
    "    [[11,12,13],[14,15,16],[17,18,19]],\n",
    "    [[21,22,23],[24,25,26],[27,28,29]],\n",
    "    [[31,32,33],[34,35,36],[37,38,39]]\n",
    "])\n",
    "print('escalar.shape:',escalar.shape)"
   ]
  },
  {
   "cell_type": "code",
   "execution_count": null,
   "id": "6650ad67",
   "metadata": {},
   "outputs": [
    {
     "name": "stdout",
     "output_type": "stream",
     "text": [
      "vector.shape: (3,)\n",
      "vector.len: 3\n",
      "vector.size: 3\n",
      "-\n",
      "matriz.shape: (3, 2)\n",
      "matriz.len: 3\n",
      "matriz.size: 6\n",
      "-\n",
      "tensor.shape: (4, 3, 3)\n",
      "tensor.len: 4\n",
      "tensor.size: 36\n",
      "-\n"
     ]
    }
   ],
   "source": [
    "print('vector.shape:',vector.shape)\n",
    "print('vector.len:',len(vector))\n",
    "print('vector.size:',vector.size)\n",
    "print('-')\n",
    "print('matriz.shape:',matriz.shape)\n",
    "print('matriz.len:',len(matriz))\n",
    "print('matriz.size:',matriz.size)\n",
    "print('-')\n",
    "print('tensor.shape:',tensor.shape)\n",
    "print('tensor.len:',len(tensor))\n",
    "print('tensor.size:',tensor.size)\n",
    "print('-')\n",
    "\n",
    "# 1, filas, colunas, repetie la estructura anterior"
   ]
  }
 ],
 "metadata": {
  "kernelspec": {
   "display_name": "DE",
   "language": "python",
   "name": "python3"
  },
  "language_info": {
   "codemirror_mode": {
    "name": "ipython",
    "version": 3
   },
   "file_extension": ".py",
   "mimetype": "text/x-python",
   "name": "python",
   "nbconvert_exporter": "python",
   "pygments_lexer": "ipython3",
   "version": "3.10.16"
  }
 },
 "nbformat": 4,
 "nbformat_minor": 5
}
