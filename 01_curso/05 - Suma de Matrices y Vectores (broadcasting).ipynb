{
 "cells": [
  {
   "cell_type": "markdown",
   "metadata": {},
   "source": [
    "Resumen\n",
    "\n",
    "¿Cuándo es posible sumar matrices de dimensiones distintas?\n",
    "En el apasionante mundo de la programación y el análisis numérico, sumar matrices de distintas dimensiones a menudo trae consigo desafíos intrigantes. En esta clase, exploramos cuándo y cómo es posible llevar a cabo esta operación, aplicando las reglas del broadcasting en arrays de Numpy, una librería muy útil en Python. Comprender el broadcasting es clave para expandir tus habilidades de manipulación de matrices.\n",
    "\n",
    "¿Qué es el broadcasting en Numpy?\n",
    "El broadcasting es un concepto esencial en Numpy que permite realizar operaciones aritméticas en matrices de diferentes dimensiones. En esencia, Numpy extiende la matriz de menor dimensión para que coincida con la de mayor dimensión, siempre que ello sea posible siguiendo ciertas reglas. Esta capacidad aumenta significativamente la flexibilidad y eficiencia al trabajar con arrays.\n",
    "\n",
    "¿Por qué numpy arroja error al sumar matrices y vectores no compatibles?\n",
    "En ocasiones, nos vemos con la tarea de sumar un vector a una matriz. Supongamos que tenemos una matriz de dimensiones 3x2 y un vector de longitud 3. Numpy mostrará un error porque las dimensiones no coinciden para el broadcasting. La matriz de 3x2 necesita, al menos, un vector compatible que sea de longitud 2 (el número de columnas) para extender el vector por filas.\n",
    "\n",
    "¿Cómo solucionar errores de dimensiones en la suma?\n",
    "Una solución a este error es transponer la matriz cuando es posible. Cambiar las dimensiones de la matriz a 2x3, por ejemplo, permite sumar un vector de tres elementos. Este proceso funciona ya que, al transponer, la matriz y el vector se vuelven compatibles, permitiendo a Numpy extender el vector para sumar cada uno de sus elementos a las columnas de la matriz.\n",
    "\n",
    "Ejemplos de broadcasting\n",
    "¿Cómo funciona la adición de una matriz y un escalar?\n",
    "Una aplicación común de broadcasting es sumar un escalar a todas las posiciones de una matriz. Por ejemplo, sumar 42 a una matriz de 3x2 implica que Numpy internamente replica el escalar, efectuando la suma como si fuese un array de la misma dimensión que la matriz. El resultado es sencillo: cada elemento de la matriz original incrementa en valor.\n",
    "\n",
    "Aquí te dejamos un ejemplo práctico:\n",
    "\n",
    "import numpy as np\n",
    "\n",
    "# Definimos una matriz y un escalar\n",
    "matriz = np.array([[1, 2], [3, 4], [5, 6]])\n",
    "escalar = 42\n",
    "\n",
    "# Suma de la matriz con el escalar aplicando broadcasting\n",
    "resultado = matriz + escalar\n",
    "print(resultado)\n",
    "El código demostrará cómo cada elemento de la matriz se incrementa por el valor del escalar.\n",
    "\n",
    "¿Qué pasa cuando sumamos un vector a una matriz traspuesta?\n",
    "Consideremos una matriz de 2x3 y un vector de longitud 3. Siguiendo las reglas del broadcasting, Numpy extenderá el vector para que coincida con las dimensiones de la matriz al sumar los tres elementos del vector a cada fila de la matriz.\n",
    "\n",
    "Ejemplo en acción:\n",
    "# Definimos una matriz traspuesta y un vector\n",
    "matriz_t = np.array([[1, 2, 3], [4, 5, 6]])\n",
    "vector = np.array([10, 20, 30])\n",
    "\n",
    "# Suma de la matriz traspuesta con el vector usando broadcasting\n",
    "resultado = matriz_t + vector\n",
    "print(resultado)\n",
    "Aquí vemos cómo, de manera efectiva, cada elemento del vector se adiciona a sus respectivas filas.\n",
    "\n",
    "¿Cómo practicar el concepto de broadcasting?\n",
    "Un buen ejercicio para consolidar lo aprendido es tomar un vector de cinco elementos y sumarlo a una matriz de 5x5. Esto no solo fortalecerá tu comprensión del broadcasting, sino que también mejorará tu destreza en el uso de Numpy. ¡No dudes en experimentar y verás que las posibilidades son inmensas!\n",
    "\n",
    "La exploración constante te permitirá profundizar tu conocimiento y dominar este potente recurso. Sigue practicando y adentrándote en el análisis de datos con confianza y curiosidad. ¡Estoy seguro de que lo lograrás con éxito!"
   ]
  },
  {
   "cell_type": "code",
   "execution_count": 1,
   "metadata": {},
   "outputs": [],
   "source": [
    "import numpy as np"
   ]
  },
  {
   "cell_type": "code",
   "execution_count": 2,
   "metadata": {},
   "outputs": [],
   "source": [
    "escalar = 5.679\n",
    "vector = np.array([3,4,5])\n",
    "matriz = np.array([[1,2],[3,4],[5,6]])"
   ]
  },
  {
   "cell_type": "code",
   "execution_count": 3,
   "metadata": {},
   "outputs": [
    {
     "ename": "ValueError",
     "evalue": "operands could not be broadcast together with shapes (3,) (3,2) ",
     "output_type": "error",
     "traceback": [
      "\u001b[0;31m---------------------------------------------------------------------------\u001b[0m",
      "\u001b[0;31mValueError\u001b[0m                                Traceback (most recent call last)",
      "Cell \u001b[0;32mIn[3], line 1\u001b[0m\n\u001b[0;32m----> 1\u001b[0m A \u001b[38;5;241m=\u001b[39m \u001b[43mvector\u001b[49m\u001b[43m \u001b[49m\u001b[38;5;241;43m+\u001b[39;49m\u001b[43m \u001b[49m\u001b[43mmatriz\u001b[49m\n",
      "\u001b[0;31mValueError\u001b[0m: operands could not be broadcast together with shapes (3,) (3,2) "
     ]
    }
   ],
   "source": [
    "A = vector + matriz"
   ]
  },
  {
   "cell_type": "code",
   "execution_count": 4,
   "metadata": {},
   "outputs": [],
   "source": [
    "A = matriz.T + vector"
   ]
  },
  {
   "cell_type": "code",
   "execution_count": 5,
   "metadata": {},
   "outputs": [
    {
     "name": "stdout",
     "output_type": "stream",
     "text": [
      "[[ 4  7 10]\n",
      " [ 5  8 11]]\n"
     ]
    }
   ],
   "source": [
    "print(A)"
   ]
  },
  {
   "cell_type": "code",
   "execution_count": 6,
   "metadata": {},
   "outputs": [],
   "source": [
    "C = matriz + 42"
   ]
  },
  {
   "cell_type": "code",
   "execution_count": 7,
   "metadata": {},
   "outputs": [
    {
     "name": "stdout",
     "output_type": "stream",
     "text": [
      "[[43 44]\n",
      " [45 46]\n",
      " [47 48]]\n"
     ]
    }
   ],
   "source": [
    "print(C)"
   ]
  },
  {
   "cell_type": "code",
   "execution_count": 7,
   "metadata": {},
   "outputs": [
    {
     "name": "stdout",
     "output_type": "stream",
     "text": [
      "[[43 44]\n",
      " [45 46]\n",
      " [47 48]]\n"
     ]
    }
   ],
   "source": [
    "D = matriz + np.array([[42],[42],[42]])\n",
    "print(D)"
   ]
  },
  {
   "cell_type": "code",
   "execution_count": null,
   "metadata": {},
   "outputs": [],
   "source": []
  }
 ],
 "metadata": {
  "kernelspec": {
   "display_name": "DE",
   "language": "python",
   "name": "python3"
  },
  "language_info": {
   "codemirror_mode": {
    "name": "ipython",
    "version": 3
   },
   "file_extension": ".py",
   "mimetype": "text/x-python",
   "name": "python",
   "nbconvert_exporter": "python",
   "pygments_lexer": "ipython3",
   "version": "3.10.16"
  }
 },
 "nbformat": 4,
 "nbformat_minor": 2
}
