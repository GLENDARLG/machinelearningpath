{
 "cells": [
  {
   "cell_type": "markdown",
   "metadata": {},
   "source": [
    "Resumen\n",
    "\n",
    "¿Qué es el producto interno y cómo se diferencia de la multiplicación de matrices?\n",
    "El producto interno es fundamental en álgebra lineal y se distingue de la simple multiplicación de una matriz por un vector, ya que implica no solo una operación matemática sino también una comprensión más profunda de cómo interactúan los vectores en el espacio. Mientras que la multiplicación estándar de matrices y vectores proporciona una nueva matriz, el producto interno resulta en un vector de una dimensión específica. ¿Quieres conocer más a fondo estas operaciones y entender cómo utilizarlas en tus proyectos? ¡Acompáñame mientras desglosamos el proceso!\n",
    "\n",
    "Multiplicación de matriz por vector\n",
    "Cuando multiplicamos una matriz por un vector, el resultado es otra matriz si se cumplen las condiciones de tamaño. Por ejemplo, considere una matriz de tamaño 3x2 y un vector de dimensión 2. Al multiplicarlos, obtienes una nueva matriz que mantiene ciertas propiedades originales mientras multiplica cada componente del vector con las columnas correspondientes de la matriz.\n",
    "\n",
    "# Ejemplo código para multiplicación de matriz por vector\n",
    "import numpy as np\n",
    "\n",
    "# Definiendo la matriz y el vector\n",
    "matriz = np.array([[1, 2], [3, 4], [5, 6]])\n",
    "vector = np.array([2, 3])\n",
    "\n",
    "# Multiplicación de matriz por vector\n",
    "resultado_matriz = np.dot(matriz, vector)\n",
    "print(resultado_matriz)\n",
    "En este ejemplo, el proceso de \"broadcasting\" toma lugar al multiplicar la primera columna por 2 y la segunda columna por 3, obteniendo resultados individuales que se suman.\n",
    "\n",
    "¿Cómo se realiza el producto interno de una matriz y un vector?\n",
    "El producto interno, también conocido como \"dot product\" o \"producto escalar\", implica multiplicar las correspondientes entradas de matriz y vector y luego sumar estos productos. A diferencia de la multiplicación de matriz, el resultado es un vector donde cada elemento es una suma de productos diferentes.\n",
    "\n",
    "# Ejemplo código para producto interno\n",
    "resultado_producto_interno = np.inner(matriz, vector)\n",
    "print(resultado_producto_interno)\n",
    "Aquí, cada elemento del resultado es calculado multiplicando los elementos correspondientes del vector y la matriz, luego sumándolos. Esto da un resultado específico basado en las dimensiones del vector y del número de filas en la matriz.\n",
    "\n",
    "Consideraciones y ejercicios para profundizar\n",
    "Diferentes métodos: Hay dos formas principales de realizar el producto interno: calculándolo directamente al multiplicar el vector y la matriz, y utilizando funciones de bibliotecas como numpy que ofrecen funciones definidas como np.dot().\n",
    "Prueba interactividad: Multiplica una matriz por un vector y luego invierte el orden: multiplicar el vector por la matriz. Observando los resultados, notarás cómo varían o permanecen iguales bajo ciertas condiciones.\n",
    "Participación en discusiones: Aprovecha los foros de discusión para resolver dudas y compartir hallazgos con otros estudiantes. La interacción y el intercambio de ideas enriquece el aprendizaje.\n",
    "Este conocimiento no solo es esencial para quienes quieren adentrarse en campos como el machine learning o data science, sino que también es una habilidad clave en la programación y la resolución de problemas matemáticos complejos. ¡Sigue explorando y no dudes en preguntar lo que necesites! Nos vemos en la próxima clase."
   ]
  },
  {
   "cell_type": "code",
   "execution_count": 2,
   "metadata": {},
   "outputs": [],
   "source": [
    "import numpy as np"
   ]
  },
  {
   "cell_type": "code",
   "execution_count": 3,
   "metadata": {},
   "outputs": [],
   "source": [
    "escalar = 5.679\n",
    "vector = np.array([3,2])\n",
    "matriz = np.array([-1,2])"
   ]
  },
  {
   "cell_type": "code",
   "execution_count": 4,
   "metadata": {},
   "outputs": [],
   "source": [
    "A = matriz * vector"
   ]
  },
  {
   "cell_type": "code",
   "execution_count": 9,
   "metadata": {},
   "outputs": [],
   "source": [
    "B = matriz.dot(vector)"
   ]
  },
  {
   "cell_type": "code",
   "execution_count": 10,
   "metadata": {},
   "outputs": [
    {
     "name": "stdout",
     "output_type": "stream",
     "text": [
      "1\n"
     ]
    }
   ],
   "source": [
    "print(B)"
   ]
  },
  {
   "cell_type": "code",
   "execution_count": 7,
   "metadata": {},
   "outputs": [
    {
     "name": "stdout",
     "output_type": "stream",
     "text": [
      "1\n"
     ]
    }
   ],
   "source": [
    "print(B)"
   ]
  },
  {
   "cell_type": "code",
   "execution_count": 8,
   "metadata": {},
   "outputs": [
    {
     "name": "stdout",
     "output_type": "stream",
     "text": [
      "1\n"
     ]
    },
    {
     "ename": "NameError",
     "evalue": "name 'C' is not defined",
     "output_type": "error",
     "traceback": [
      "\u001b[0;31m---------------------------------------------------------------------------\u001b[0m",
      "\u001b[0;31mNameError\u001b[0m                                 Traceback (most recent call last)",
      "Cell \u001b[0;32mIn[8], line 4\u001b[0m\n\u001b[1;32m      1\u001b[0m B \u001b[38;5;241m=\u001b[39m matriz\u001b[38;5;241m.\u001b[39mdot(vector)\n\u001b[1;32m      3\u001b[0m \u001b[38;5;28mprint\u001b[39m(B)\n\u001b[0;32m----> 4\u001b[0m \u001b[38;5;28mprint\u001b[39m(\u001b[43mC\u001b[49m)\n",
      "\u001b[0;31mNameError\u001b[0m: name 'C' is not defined"
     ]
    }
   ],
   "source": [
    "B = matriz.dot(vector)\n",
    "\n",
    "print(B)\n",
    "print(C)"
   ]
  },
  {
   "cell_type": "code",
   "execution_count": null,
   "metadata": {},
   "outputs": [],
   "source": [
    "D = np.array([[2],[2],[2]])"
   ]
  },
  {
   "cell_type": "code",
   "execution_count": null,
   "metadata": {},
   "outputs": [
    {
     "name": "stdout",
     "output_type": "stream",
     "text": [
      "[[2]\n",
      " [2]\n",
      " [2]]\n"
     ]
    }
   ],
   "source": [
    "print(D)"
   ]
  },
  {
   "cell_type": "code",
   "execution_count": null,
   "metadata": {},
   "outputs": [
    {
     "ename": "ValueError",
     "evalue": "shapes (2,) and (3,2) not aligned: 2 (dim 0) != 3 (dim 0)",
     "output_type": "error",
     "traceback": [
      "\u001b[0;31m---------------------------------------------------------------------------\u001b[0m",
      "\u001b[0;31mValueError\u001b[0m                                Traceback (most recent call last)",
      "Cell \u001b[0;32mIn[12], line 1\u001b[0m\n\u001b[0;32m----> 1\u001b[0m K \u001b[38;5;241m=\u001b[39m \u001b[43mnp\u001b[49m\u001b[38;5;241;43m.\u001b[39;49m\u001b[43mdot\u001b[49m\u001b[43m(\u001b[49m\u001b[43mvector\u001b[49m\u001b[43m,\u001b[49m\u001b[43mmatriz\u001b[49m\u001b[43m)\u001b[49m\n\u001b[1;32m      2\u001b[0m \u001b[38;5;28mprint\u001b[39m(K)\n",
      "File \u001b[0;32m<__array_function__ internals>:180\u001b[0m, in \u001b[0;36mdot\u001b[0;34m(*args, **kwargs)\u001b[0m\n",
      "\u001b[0;31mValueError\u001b[0m: shapes (2,) and (3,2) not aligned: 2 (dim 0) != 3 (dim 0)"
     ]
    }
   ],
   "source": [
    "K = np.dot(vector,matriz)\n",
    "print(K)"
   ]
  }
 ],
 "metadata": {
  "kernelspec": {
   "display_name": "DE",
   "language": "python",
   "name": "python3"
  },
  "language_info": {
   "codemirror_mode": {
    "name": "ipython",
    "version": 3
   },
   "file_extension": ".py",
   "mimetype": "text/x-python",
   "name": "python",
   "nbconvert_exporter": "python",
   "pygments_lexer": "ipython3",
   "version": "3.10.16"
  }
 },
 "nbformat": 4,
 "nbformat_minor": 2
}
