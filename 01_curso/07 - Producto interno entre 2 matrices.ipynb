{
 "cells": [
  {
   "cell_type": "markdown",
   "metadata": {},
   "source": [
    "¿Cómo se define el producto interno entre matrices?\n",
    "El producto interno entre matrices es uno de los conceptos más útiles y fascinantes de la álgebra lineal. Nos permite combinar matrices de manera que se puedan aprovechar sus propiedades para cálculos más complejos. En particular, el producto interno entre dos matrices está definido cuando el número de columnas de la primera matriz es idéntico al número de filas de la segunda. Esto se traduce en que las dimensiones de las matrices involucradas deben estar alineadas adecuadamente.\n",
    "\n",
    "Esta operación es esencial en campos como la computación, donde se utilizan matrices para representar datos y para realizar cálculos avanzados de manera eficiente. Veamos cómo se aplica este concepto a través de un ejemplo práctico.\n",
    "\n",
    "¿Cómo aplicamos el producto interno a dos matrices?\n",
    "Para ilustrar el producto interno, consideremos las matrices A y B. La matriz A es de dimensiones 4x3 y la matriz B es de dimensiones 3x2. En este caso, el producto interno (A \\cdot B) es posible, pero el producto (B \\cdot A) no lo es.\n",
    "\n",
    "Paso a paso del producto (A \\cdot B)\n",
    "La operación (A \\cdot B) es posible porque el número de columnas de A coincide con el número de filas de B, es decir, 3. Esta coincidencia nos permite realizar el producto interno. Echemos un vistazo al proceso:\n",
    "\n",
    "Multi-step Calculation: Se multiplica cada elemento de la fila de A por el elemento correspondiente de la columna de B, y luego se suman estos productos.\n",
    "\n",
    "Iteración por filas y columnas: Se repite el proceso para cada fila de A y cada columna de B hasta llenar una nueva matriz resultante. La matriz resultante tendrá las dimensiones ((4x2)), derivadas del número de filas de A y el número de columnas de B.\n",
    "\n",
    "El resultado nos da una nueva matriz cuya dimensión es 4x2, que resulta de esta multiplicación de matrices individuales.\n",
    "\n",
    "# Ejemplo de matrices A y B\n",
    "import numpy as np\n",
    "\n",
    "A = np.array([[1, 2, 3], [4, 5, 6], [7, 8, 9], [10, 11, 12]])\n",
    "B = np.array([[2, 3], [5, 7], [11, 13]])\n",
    "\n",
    "# Realizando el producto interno\n",
    "C = np.dot(A, B)\n",
    "\n",
    "print(C)\n",
    "Este código en Python ilustra cómo se calcula el producto interno usando la biblioteca NumPy, que simplifica el manejo de operaciones matriciales. Este ejemplo resulta en una matriz resultante de 4x2, conforme a nuestras expectativas.\n",
    "\n",
    "¿Qué sucede cuando el producto interno no está definido?\n",
    "Intentar calcular el producto interno de (B \\cdot A) nos lleva a un error porque las dimensiones correspondientes no coinciden. En lugar de corregir el cálculo, detengamos un momento para entender la razón detrás del error.\n",
    "\n",
    "El problema radica en que el número de columnas de B (que es 2) no coincide con el número de filas de A (que es 4). Esto implica que el producto no está definido bajo las reglas del álgebra lineal, lo cual suele conducir a errores en los sistemas de programación, indicándonos que las dimensiones no son compatibles.\n",
    "\n",
    "Consejos prácticos para evitar errores\n",
    "Verificar dimensiones: Siempre verifica que las dimensiones de las matrices estén alineadas antes de intentar calcular el producto interno.\n",
    "Uso de herramientas: Emplear herramientas como NumPy, ya que proporcionan funciones para realizar estas comprobaciones automáticamente y manejar matrices grandes de manera eficiente.\n",
    "Comprender los resultados: Asegúrate de que el tamaño de la matriz resultante tenga sentido dentro del contexto de tu problema.\n",
    "Te animo a que pongas en práctica este conocimiento calculando el resultado del producto interno de las matrices proporcionadas y completando los valores faltantes en el ejercicio propuesto. ¡Continúa explorando y desarrollando tus habilidades de álgebra lineal!"
   ]
  },
  {
   "cell_type": "code",
   "execution_count": 2,
   "metadata": {},
   "outputs": [],
   "source": [
    "import numpy as np"
   ]
  },
  {
   "cell_type": "code",
   "execution_count": 3,
   "metadata": {},
   "outputs": [],
   "source": [
    "A = np.array([[1,2,3],[4,5,6],[7,8,9],[10,11,12]])\n",
    "B = np.array([[2,3],[5,7],[11,13]])"
   ]
  },
  {
   "cell_type": "code",
   "execution_count": 4,
   "metadata": {},
   "outputs": [
    {
     "name": "stdout",
     "output_type": "stream",
     "text": [
      "(4, 3)\n"
     ]
    }
   ],
   "source": [
    "print(A.shape)"
   ]
  },
  {
   "cell_type": "code",
   "execution_count": 5,
   "metadata": {},
   "outputs": [
    {
     "name": "stdout",
     "output_type": "stream",
     "text": [
      "(3, 2)\n"
     ]
    }
   ],
   "source": [
    "print(B.shape)"
   ]
  },
  {
   "cell_type": "code",
   "execution_count": 6,
   "metadata": {},
   "outputs": [
    {
     "name": "stdout",
     "output_type": "stream",
     "text": [
      "[[ 45  56]\n",
      " [ 99 125]\n",
      " [153 194]\n",
      " [207 263]]\n"
     ]
    }
   ],
   "source": [
    "C = A.dot(B)\n",
    "print(C)"
   ]
  },
  {
   "cell_type": "code",
   "execution_count": 7,
   "metadata": {},
   "outputs": [
    {
     "ename": "ValueError",
     "evalue": "shapes (3,2) and (4,3) not aligned: 2 (dim 1) != 4 (dim 0)",
     "output_type": "error",
     "traceback": [
      "\u001b[0;31m---------------------------------------------------------------------------\u001b[0m",
      "\u001b[0;31mValueError\u001b[0m                                Traceback (most recent call last)",
      "Cell \u001b[0;32mIn[7], line 1\u001b[0m\n\u001b[0;32m----> 1\u001b[0m D \u001b[38;5;241m=\u001b[39m \u001b[43mB\u001b[49m\u001b[38;5;241;43m.\u001b[39;49m\u001b[43mdot\u001b[49m\u001b[43m(\u001b[49m\u001b[43mA\u001b[49m\u001b[43m)\u001b[49m\n",
      "\u001b[0;31mValueError\u001b[0m: shapes (3,2) and (4,3) not aligned: 2 (dim 1) != 4 (dim 0)"
     ]
    }
   ],
   "source": [
    "D = B.dot(A)"
   ]
  },
  {
   "cell_type": "code",
   "execution_count": null,
   "metadata": {},
   "outputs": [],
   "source": []
  }
 ],
 "metadata": {
  "kernelspec": {
   "display_name": "DE",
   "language": "python",
   "name": "python3"
  },
  "language_info": {
   "codemirror_mode": {
    "name": "ipython",
    "version": 3
   },
   "file_extension": ".py",
   "mimetype": "text/x-python",
   "name": "python",
   "nbconvert_exporter": "python",
   "pygments_lexer": "ipython3",
   "version": "3.10.16"
  }
 },
 "nbformat": 4,
 "nbformat_minor": 2
}
