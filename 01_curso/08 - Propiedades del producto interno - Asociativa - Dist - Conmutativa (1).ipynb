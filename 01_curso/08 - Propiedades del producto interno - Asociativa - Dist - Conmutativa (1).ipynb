{
 "cells": [
  {
   "cell_type": "markdown",
   "metadata": {},
   "source": [
    "¿Cómo entender las propiedades del producto interno?\n",
    "El producto interno es una operación fundamental en el álgebra lineal que no solo nos permite calcular magnitudes, sino también entender relaciones geométricas entre vectores. Resulta enriquecedor descubrir sus propiedades, ya que nos facilitan el manejo y manipulación de matrices y vectores. A través de ejemplos prácticos, podemos visualizar cómo estas propiedades se manifiestan, lo que fortalece nuestra comprensión teórica y práctica. Analicemos a fondo estas propiedades esenciales del producto interno.\n",
    "\n",
    "¿Qué es la propiedad asociativa?\n",
    "La propiedad asociativa es una característica crucial en operaciones matemáticas que nos indica que el orden en el cual agrupamos las operaciones no afecta el resultado. En el contexto del producto interno, si tenemos matrices A, B y C, esta propiedad nos asegura que:\n",
    "\n",
    "[ (A \\cdot B) \\cdot C = A \\cdot (B \\cdot C) ]\n",
    "\n",
    "Ahora, aunque en el álgebra lineal la propiedad asociativa tal cual se aplica a operaciones de escalar y no directamente a matrices, sí aplica en la combinación de productos internos, como una forma de redistribuir la multiplicación en operaciones más complejas.\n",
    "\n",
    "En código, comprobamos la propiedad asociativa así:\n",
    "\n",
    "import numpy as np\n",
    "\n",
    "# Definimos matrices A, B, C\n",
    "A = np.array([[1, 2], [3, 4]])\n",
    "B = np.array([[5, 6], [7, 8]])\n",
    "C = np.array([[9, 10], [11, 12]])\n",
    "\n",
    "# Verificando la propiedad asociativa\n",
    "resultado_1 = np.dot(np.dot(A, B), C)\n",
    "resultado_2 = np.dot(A, np.dot(B, C))\n",
    "\n",
    "print(resultado_1)\n",
    "print(resultado_2)\n",
    "Las salidas deberían coincidir, lo cual nos muestra la propiedad asociativa en acción.\n",
    "\n",
    "¿Cómo comprobar la propiedad distributiva?\n",
    "La propiedad distributiva nos indica que distribuir un producto sobre una suma es equivalente a realizar cada operación por separado y luego sumar los resultados. Matemáticamente, para el producto interno, se expresa como:\n",
    "\n",
    "[ A \\cdot (B + C) = A \\cdot B + A \\cdot C ]\n",
    "\n",
    "Este concepto se aplica al distribuir la multiplicación de una matriz por la suma de dos matrices, otorgando fluidez y flexibilidad en los cálculos.\n",
    "\n",
    "Veamos cómo probar esta propiedad usando código de Python:\n",
    "\n",
    "D = B + C\n",
    "\n",
    "# Verificar propiedad distributiva\n",
    "distributiva_1 = np.dot(A, D)\n",
    "distributiva_2 = np.dot(A, B) + np.dot(A, C)\n",
    "\n",
    "print(distributiva_1)\n",
    "print(distributiva_2)\n",
    "Si ambas matrices resultantes son idénticas, hemos confirmado la propiedad distributiva.\n",
    "\n",
    "¿El producto interno es conmutativo?\n",
    "Podríamos estar tentados a asumir que la conmutatividad, una propiedad esencial en la multiplicación escalar, se aplica igualmente al producto interno. Sin embargo, en álgebra de matrices, esto no siempre es el caso. Para matrices, en general no es verdad que:\n",
    "\n",
    "[ A \\cdot B = B \\cdot A ]\n",
    "\n",
    "No obstante, en el caso específico de productos de vectores, podemos observar esta propiedad. Consideremos un ejemplo con vectores:\n",
    "\n",
    "# Definición de vectores\n",
    "v1 = np.array([2, 7])\n",
    "v2 = np.array([3, 5])\n",
    "\n",
    "# Cálculo del producto interno\n",
    "producto_1 = np.dot(v1, v2)\n",
    "producto_2 = np.dot(v2, v1)\n",
    "\n",
    "print(producto_1) # Debe imprimir 41\n",
    "print(producto_2) # Debe imprimir 41\n",
    "Aquí, vemos que el producto interno de vectores sí es conmutativo, lo cual no es lo mismo en matrices generales.\n",
    "\n",
    "¿Qué ejercicios prácticos puedo hacer?\n",
    "Practicar con ejemplos es vital para internalizar estos conceptos. Te animo a pensar en dos matrices de dimensiones distintas para las cuales puedas calcular el Producto Interno, pero no puedas invertir sus roles. Como una pista, podemos recordar cómo las dimensiones deben ser compatibles para que la multiplicación sea válida. Comparte tus hallazgos en los foros de discusión y sigue explorando estas fascinantes propiedades matemáticas en tus estudios de álgebra lineal."
   ]
  },
  {
   "cell_type": "code",
   "execution_count": 1,
   "metadata": {},
   "outputs": [],
   "source": [
    "import numpy as np"
   ]
  },
  {
   "cell_type": "code",
   "execution_count": 2,
   "metadata": {},
   "outputs": [],
   "source": [
    "A = np.array([[2,3],[5,7],[11,13]])\n",
    "B = np.array([[1,3],[2,1]])\n",
    "C = np.array([[3,1],[4,2]])"
   ]
  },
  {
   "cell_type": "code",
   "execution_count": 3,
   "metadata": {},
   "outputs": [
    {
     "name": "stdout",
     "output_type": "stream",
     "text": [
      "[[ 60  26]\n",
      " [145  63]\n",
      " [295 129]]\n"
     ]
    }
   ],
   "source": [
    "# Asociativa\n",
    "ABC = A.dot(B.dot(C))\n",
    "print(ABC)"
   ]
  },
  {
   "cell_type": "code",
   "execution_count": 4,
   "metadata": {},
   "outputs": [
    {
     "name": "stdout",
     "output_type": "stream",
     "text": [
      "[[ 60  26]\n",
      " [145  63]\n",
      " [295 129]]\n"
     ]
    }
   ],
   "source": [
    "AB_C = A.dot(B).dot(C)\n",
    "print(AB_C)"
   ]
  },
  {
   "cell_type": "code",
   "execution_count": 5,
   "metadata": {},
   "outputs": [],
   "source": [
    "#Distrbutiva\n",
    "D = A.dot(B+C)\n",
    "E = (A.dot(B))+(A.dot(C))"
   ]
  },
  {
   "cell_type": "code",
   "execution_count": 6,
   "metadata": {},
   "outputs": [
    {
     "name": "stdout",
     "output_type": "stream",
     "text": [
      "[[ 26  17]\n",
      " [ 62  41]\n",
      " [122  83]]\n",
      "[[ 26  17]\n",
      " [ 62  41]\n",
      " [122  83]]\n"
     ]
    }
   ],
   "source": [
    "print(D)\n",
    "print(E)"
   ]
  },
  {
   "cell_type": "code",
   "execution_count": 7,
   "metadata": {},
   "outputs": [
    {
     "name": "stdout",
     "output_type": "stream",
     "text": [
      "[[ True  True]\n",
      " [ True  True]\n",
      " [ True  True]]\n"
     ]
    }
   ],
   "source": [
    "print(D==E)"
   ]
  },
  {
   "cell_type": "code",
   "execution_count": 8,
   "metadata": {},
   "outputs": [],
   "source": [
    "F = B.dot(C)"
   ]
  },
  {
   "cell_type": "code",
   "execution_count": 9,
   "metadata": {},
   "outputs": [],
   "source": [
    "G = C.dot(B)"
   ]
  },
  {
   "cell_type": "code",
   "execution_count": 10,
   "metadata": {},
   "outputs": [
    {
     "name": "stdout",
     "output_type": "stream",
     "text": [
      "[[False False]\n",
      " [False False]]\n"
     ]
    }
   ],
   "source": [
    "print(F==G)"
   ]
  },
  {
   "cell_type": "code",
   "execution_count": 11,
   "metadata": {},
   "outputs": [
    {
     "name": "stdout",
     "output_type": "stream",
     "text": [
      "[[15  7]\n",
      " [10  4]]\n"
     ]
    }
   ],
   "source": [
    "print(F)"
   ]
  },
  {
   "cell_type": "code",
   "execution_count": 12,
   "metadata": {},
   "outputs": [
    {
     "name": "stdout",
     "output_type": "stream",
     "text": [
      "[[ 5 10]\n",
      " [ 8 14]]\n"
     ]
    }
   ],
   "source": [
    "print(G)"
   ]
  },
  {
   "cell_type": "code",
   "execution_count": 13,
   "metadata": {},
   "outputs": [],
   "source": [
    "v1 = np.array([[2],[7]])\n",
    "v2 = np.array([[3],[5]])"
   ]
  },
  {
   "cell_type": "code",
   "execution_count": 14,
   "metadata": {},
   "outputs": [],
   "source": [
    "v1_tv2 = v1.T.dot(v2)\n",
    "v2_tv1 = v2.T.dot(v1)"
   ]
  },
  {
   "cell_type": "code",
   "execution_count": 15,
   "metadata": {},
   "outputs": [
    {
     "name": "stdout",
     "output_type": "stream",
     "text": [
      "[[41]]\n"
     ]
    }
   ],
   "source": [
    "print(v1_tv2)"
   ]
  },
  {
   "cell_type": "code",
   "execution_count": 16,
   "metadata": {},
   "outputs": [
    {
     "name": "stdout",
     "output_type": "stream",
     "text": [
      "[[41]]\n"
     ]
    }
   ],
   "source": [
    "print(v2_tv1)"
   ]
  },
  {
   "cell_type": "code",
   "execution_count": null,
   "metadata": {},
   "outputs": [],
   "source": []
  }
 ],
 "metadata": {
  "kernelspec": {
   "display_name": "DE",
   "language": "python",
   "name": "python3"
  },
  "language_info": {
   "codemirror_mode": {
    "name": "ipython",
    "version": 3
   },
   "file_extension": ".py",
   "mimetype": "text/x-python",
   "name": "python",
   "nbconvert_exporter": "python",
   "pygments_lexer": "ipython3",
   "version": "3.10.16"
  }
 },
 "nbformat": 4,
 "nbformat_minor": 2
}
