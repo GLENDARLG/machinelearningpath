{
 "cells": [
  {
   "cell_type": "markdown",
   "metadata": {},
   "source": [
    "¿Qué es la transposición de un producto de matrices?\n",
    "La transposición de matrices es un concepto central en álgebra lineal. Al operar con matrices, tanto la forma en que se multiplican como su transposición juegan roles cruciales. Hoy exploramos cómo se interrelacionan estas transposiciones dentro del producto interno de matrices. La propiedad que definiremos es: si tenemos una matriz A multiplicada internamente con B, su transposición es igual al producto de B transpuesta con A transpuesta. Esto es expresado matemáticamente como:\n",
    "\n",
    "(AB)^T = B^T A^T\n",
    "Esta propiedad es vital al trabajar en álgebra lineal, ya que permite una manipulación más intuitiva y versátil de las matrices, tratándolas casi como si fueran números.\n",
    "\n",
    "¿Qué implicaciones tiene esta propiedad en el trabajo con matrices?\n",
    "La versatilidad que otorga esta propiedad en operaciones matriciales es significativa:\n",
    "\n",
    "Flexibilidad Operativa: Podemos organizar las operaciones de una manera que facilite los cálculos, porque la transposición nos permite cambiar el orden sin alterar el resultado final.\n",
    "\n",
    "Optimización de Cálculos: En lugar de recalcular completamente los sistemas de ecuaciones, el uso correcto de transposiciones ahorra tiempo y esfuerzo, simplificando el proceso.\n",
    "\n",
    "Jugabilidad Matemática: Al aplicar dos veces la transposición a una matriz, la devolvemos a su forma original. Esto permite experimentar con las transformaciones y, de ser necesario, revertirlas con facilidad.\n",
    "\n",
    "# Ejemplo básico de transposición en Python usando NumPy\n",
    "import numpy as np\n",
    "\n",
    "A = np.array([[1, 2], [3, 4], [5, 6]])  # Matriz 3x2\n",
    "B = np.array([[7, 8], [9, 10]])         # Matriz 2x2\n",
    "\n",
    "# Producto interno y su transposición\n",
    "product_transposed = np.matmul(A, B).T\n",
    "B_transpose_A_transpose = np.matmul(B.T, A.T)\n",
    "\n",
    "print(\"Transposición del producto interno:\", product_transposed)\n",
    "print(\"Producto de transposiciones:\", B_transpose_A_transpose)\n",
    "¿Cómo verificar la igualdad de estas operaciones?\n",
    "Verificar la equivalencia entre ( (AB)^T ) y ( B^T A^T ) te acerca un paso más a tratar matrices como si fueran números. Con la ayuda de herramientas como NumPy en Python, el proceso se facilita:\n",
    "\n",
    "Comprobación de Igualdad: Mediante funciones que comparan matrices, como numpy.allclose(), puedes certificar que el resultado final de ambas operaciones es el mismo.\n",
    "\n",
    "Exploración Práctica: Al comenzar con matrices A y B de dimensiones adecuadas (como A de 3x2 y B de 2x2 en el ejemplo), puedes aplicar las operaciones y verificar la igualdad de resultados, reforzando la comprensión teórica con la práctica.\n",
    "\n",
    "Aplicación en Sistemas Lineales: Esta propiedad resulta útil al resolver sistemas de ecuaciones lineales, reduciendo la complejidad al manejar las matrices involucradas.\n",
    "\n",
    "# Verificación de igualdad entre las operaciones\n",
    "equal_check = np.allclose(product_transposed, B_transpose_A_transpose)\n",
    "\n",
    "print(\"Las operaciones son iguales:\", equal_check)\n",
    "Continuar explorando y practicando estos conceptos profundizará tu comprensión y habilidad en álgebra lineal, preparándote para abordar sistemas de ecuaciones complejos con confianza y eficiencia. ¡Te animo a sumergirte más en este apasionante mundo matemático!\n"
   ]
  },
  {
   "cell_type": "code",
   "execution_count": 1,
   "metadata": {},
   "outputs": [],
   "source": [
    "import numpy as np"
   ]
  },
  {
   "cell_type": "markdown",
   "metadata": {},
   "source": []
  },
  {
   "cell_type": "code",
   "execution_count": 2,
   "metadata": {},
   "outputs": [],
   "source": [
    "A = np.array([[2,3],[5,7],[11,13]])\n",
    "B = np.array([[1,3],[2,1]])"
   ]
  },
  {
   "cell_type": "code",
   "execution_count": 3,
   "metadata": {},
   "outputs": [
    {
     "name": "stdout",
     "output_type": "stream",
     "text": [
      "[[ 2  3]\n",
      " [ 5  7]\n",
      " [11 13]]\n"
     ]
    }
   ],
   "source": [
    "print(A)"
   ]
  },
  {
   "cell_type": "code",
   "execution_count": 4,
   "metadata": {},
   "outputs": [
    {
     "name": "stdout",
     "output_type": "stream",
     "text": [
      "[[1 3]\n",
      " [2 1]]\n"
     ]
    }
   ],
   "source": [
    "print(B)"
   ]
  },
  {
   "cell_type": "code",
   "execution_count": 5,
   "metadata": {},
   "outputs": [],
   "source": [
    "AB_t = A.dot(B).T"
   ]
  },
  {
   "cell_type": "code",
   "execution_count": 6,
   "metadata": {},
   "outputs": [],
   "source": [
    "B_tA_t = B.T.dot(A.T)"
   ]
  },
  {
   "cell_type": "code",
   "execution_count": 7,
   "metadata": {},
   "outputs": [
    {
     "name": "stdout",
     "output_type": "stream",
     "text": [
      "[[ True  True  True]\n",
      " [ True  True  True]]\n"
     ]
    }
   ],
   "source": [
    "print(AB_t == B_tA_t)"
   ]
  },
  {
   "cell_type": "code",
   "execution_count": 8,
   "metadata": {},
   "outputs": [
    {
     "name": "stdout",
     "output_type": "stream",
     "text": [
      "[[ 8 19 37]\n",
      " [ 9 22 46]]\n"
     ]
    }
   ],
   "source": [
    "print(AB_t)"
   ]
  },
  {
   "cell_type": "code",
   "execution_count": null,
   "metadata": {},
   "outputs": [],
   "source": []
  }
 ],
 "metadata": {
  "kernelspec": {
   "display_name": "DE",
   "language": "python",
   "name": "python3"
  },
  "language_info": {
   "codemirror_mode": {
    "name": "ipython",
    "version": 3
   },
   "file_extension": ".py",
   "mimetype": "text/x-python",
   "name": "python",
   "nbconvert_exporter": "python",
   "pygments_lexer": "ipython3",
   "version": "3.10.16"
  }
 },
 "nbformat": 4,
 "nbformat_minor": 2
}
