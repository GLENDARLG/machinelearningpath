{
 "cells": [
  {
   "cell_type": "markdown",
   "metadata": {},
   "source": [
    "Cómo utilizar la matriz inversa para resolver un sistema de ecuaciones lineales?\n",
    "Las matrices inversas son herramientas poderosas en álgebra lineal que nos permiten encontrar soluciones a sistemas de ecuaciones lineales. Imagina que tienes un sistema matemático que resolver y deseas utilizar una matriz inversa; hacerlo podría simplificar mucho el proceso. Vamos a profundizar en cómo se hace esto paso a paso usando Python.\n",
    "\n",
    "¿Cómo definir matrices y vectores en Python?\n",
    "Primero, definimos nuestras matrices y vectores utilizando la biblioteca NumPy, que es muy útil para el manejo de datos numéricos en Python. Para un sistema de ecuaciones sencillo, donde tenemos las ecuaciones (3x + y = 1) y (2x + y = 1), organizamos la matriz de coeficientes y el vector de resultados así:\n",
    "\n",
    "import numpy as np\n",
    "\n",
    "# Definición de la matriz A\n",
    "A = np.array([[3, 1], [2, 1]])\n",
    "\n",
    "# Definición del vector B\n",
    "B = np.array([1, 1])\n",
    "¿Cómo calcular la matriz inversa?\n",
    "El siguiente paso es calcular la matriz inversa de (A). En álgebra lineal, si una matriz ( A ) tiene una inversa, significa que podemos multiplicarla por su inversa para obtener la matriz identidad. En Python:\n",
    "\n",
    "# Calcular la matriz inversa de A\n",
    "inversa_A = np.linalg.inv(A)\n",
    "¿Cómo resolver el sistema de ecuaciones?\n",
    "Una vez obtenida la matriz inversa, podemos encontrar la solución ( X ) multiplicando esta inversa por el vector ( B ):\n",
    "\n",
    "# Calcular el vector solución X\n",
    "X = np.dot(inversa_A, B)\n",
    "El resultado te dará los valores de ( x ) y ( y ) que solucionan el sistema. En nuestro caso, el vector ( X ) debería ser muy similar a ([0, 1]), lo que corresponde a ( x = 0 ) y ( y = 1 ).\n",
    "\n",
    "¿Qué pasa si cambiamos el vector de resultados?\n",
    "Si cambias ( B ) para ver si la misma matriz inversa puede ayudarnos a resolver otra configuración de resultados, tendrías algo así:\n",
    "\n",
    "# Nuevo vector B\n",
    "B_nuevo = np.array([3, 7])\n",
    "\n",
    "# Calcular el nuevo vector solución X usando la misma inversa\n",
    "X_nuevo = np.dot(inversa_A, B_nuevo)\n",
    "Este enfoque te proporciona la solución para cualquier vector ( B ) dado, siempre que los coeficientes de las variables en las ecuaciones permanezcan iguales.\n",
    "\n",
    "¿Cuáles son las limitaciones del uso de matrices inversas?\n",
    "Aunque resolver sistemas de ecuaciones lineales usando matrices inversas es conveniente, no es siempre eficiente debido a problemas numéricos que pueden surgir, especialmente cuando lidias con matrices grandes o mal condicionadas. A menudo, otras técnicas como la eliminación Gaussiana o métodos numéricos de aproximación pueden ser más adecuados.\n",
    "\n",
    "¿Por qué es importante la práctica de métodos numéricos?\n",
    "Los métodos numéricos se utilizan para encontrar soluciones aproximadas a ecuaciones y no dependen de las ineficiencias inherentes a las matrices inversas en representaciones computacionales. Saber cuándo y cómo utilizar diferentes métodos es esencial para quienes trabajan con álgebra lineal y problemas matemáticos complejos en la práctica.\n",
    "\n",
    "¿Te interesa seguir explorando esta rica área de las matemáticas computacionales? ¡Sigue practicando, afina tus habilidades y aprovecha al máximo estas herramientas fascinantes!"
   ]
  },
  {
   "cell_type": "code",
   "execution_count": 1,
   "metadata": {},
   "outputs": [],
   "source": [
    "import numpy as np"
   ]
  },
  {
   "cell_type": "code",
   "execution_count": 10,
   "metadata": {},
   "outputs": [],
   "source": [
    "np.set_printoptions(suppress=True)"
   ]
  },
  {
   "cell_type": "code",
   "execution_count": 11,
   "metadata": {},
   "outputs": [
    {
     "name": "stdout",
     "output_type": "stream",
     "text": [
      "[[3 1]\n",
      " [2 1]]\n"
     ]
    }
   ],
   "source": [
    "A = np.array([[3,1],[2,1]])\n",
    "print(A)"
   ]
  },
  {
   "cell_type": "code",
   "execution_count": 12,
   "metadata": {},
   "outputs": [],
   "source": [
    "b = np.array([[1],[1]])"
   ]
  },
  {
   "cell_type": "code",
   "execution_count": 13,
   "metadata": {},
   "outputs": [
    {
     "name": "stdout",
     "output_type": "stream",
     "text": [
      "[[ 1. -1.]\n",
      " [-2.  3.]]\n"
     ]
    }
   ],
   "source": [
    "inversa_A = np.linalg.inv(A)\n",
    "print(inversa_A)"
   ]
  },
  {
   "cell_type": "code",
   "execution_count": 6,
   "metadata": {},
   "outputs": [
    {
     "name": "stdout",
     "output_type": "stream",
     "text": [
      "[[0.]\n",
      " [1.]]\n"
     ]
    }
   ],
   "source": [
    "x = inversa_A.dot(b)\n",
    "print(x)"
   ]
  },
  {
   "cell_type": "code",
   "execution_count": 14,
   "metadata": {},
   "outputs": [
    {
     "name": "stdout",
     "output_type": "stream",
     "text": [
      "[[1.]\n",
      " [1.]]\n"
     ]
    }
   ],
   "source": [
    "print(A.dot(x))"
   ]
  },
  {
   "cell_type": "code",
   "execution_count": 15,
   "metadata": {},
   "outputs": [
    {
     "name": "stdout",
     "output_type": "stream",
     "text": [
      "[[-4.]\n",
      " [15.]]\n"
     ]
    }
   ],
   "source": [
    "sol_2 = inversa_A.dot(np.array([[3],[7]]))\n",
    "print(sol_2)"
   ]
  },
  {
   "cell_type": "code",
   "execution_count": 16,
   "metadata": {},
   "outputs": [
    {
     "name": "stdout",
     "output_type": "stream",
     "text": [
      "[[3.]\n",
      " [7.]]\n"
     ]
    }
   ],
   "source": [
    "print(A.dot(sol_2))"
   ]
  },
  {
   "cell_type": "code",
   "execution_count": null,
   "metadata": {},
   "outputs": [],
   "source": []
  }
 ],
 "metadata": {
  "kernelspec": {
   "display_name": "DE",
   "language": "python",
   "name": "python3"
  },
  "language_info": {
   "codemirror_mode": {
    "name": "ipython",
    "version": 3
   },
   "file_extension": ".py",
   "mimetype": "text/x-python",
   "name": "python",
   "nbconvert_exporter": "python",
   "pygments_lexer": "ipython3",
   "version": "3.10.16"
  }
 },
 "nbformat": 4,
 "nbformat_minor": 2
}
