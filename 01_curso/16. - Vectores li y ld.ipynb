{
 "cells": [
  {
   "cell_type": "markdown",
   "metadata": {},
   "source": [
    "¿Cómo entender las combinaciones lineales en sistemas de ecuaciones?\n",
    "Las combinaciones lineales nos permiten entender la relación entre vectores dentro de un espacio matemático, pero ¿cómo se relaciona esto con la resolución de sistemas de ecuaciones lineales? Imagina que tienes una matriz denominada A y deseas encontrar una solución B. La pregunta clave aquí es si podemos expresar B como una combinación lineal de dos vectores dados, generalmente denominados V1 y V2. Si podemos, encontraremos los valores de X1 y X2 que satisfacen esta ecuación.\n",
    "\n",
    "¿Cómo funcionan las matrices como sistemas generadores?\n",
    "Una matriz puede ser vista como un sistema generador que forma espacios a partir de los vectores que la componen. Si consideramos dos vectores, por ejemplo, V1 y V2 que originan una línea recta en R², estos vectores generan un subespacio dentro de ese plano. Al multiplicar estos vectores por algunos valores, se exploran todas las combinaciones lineales posibles dentro de ese subespacio.\n",
    "\n",
    "Ejemplo práctico con gráficos\n",
    "Imagina que tienes dos vectores:\n",
    "\n",
    "V1 = [1, 1]\n",
    "V2 = [-1, -1]\n",
    "Estos dos vectores generan una línea en el espacio R². Podemos visualizar este espacio utilizando gráficos. Para hacerlo:\n",
    "\n",
    "Asignamos un valor ( a ) en el rango de (-10) a (10).\n",
    "Asignamos un valor ( b ) también en el rango de (-10) a (10).\n",
    "Trazamos la primera coordenada de V1 multiplicada por ( a ) y sumada a la primera coordenada de V2 multiplicada por ( b ).\n",
    "Hacemos lo mismo para la segunda coordenada.\n",
    "Esta representación gráfica muestra efectivamente el espacio generado por las combinaciones lineales de V1 y V2 con estos rangos de valores.\n",
    "\n",
    "¿Existen soluciones para cualquier vector B?\n",
    "Cuando intentamos resolver un sistema de ecuaciones con una matriz generadora y un vector determinado B, debemos plantearnos si B puede ser expresado como una combinación lineal de los vectores de la matriz. Si B puede ser escrito de esa manera, entonces en principio hay una solución posible. Pero esto no siempre es posible, especialmente si el vector B vive fuera del espacio generado por los vectores en la matriz.\n",
    "\n",
    "Análisis de soluciones\n",
    "Por ejemplo, si proponemos B como los valores [-10, 10], podemos notar que este vector está fuera del espacio generado por V1 y V2. Dado que ambos vectores son linealmente dependientes, no podemos expresar B como una combinación lineal de estos vectores. Este es el resultado típico cuando una matriz no tiene vectores linealmente independientes suficientes para abarcar el subespacio necesario.\n",
    "\n",
    "¿Qué significa la dependencia lineal en un sistema?\n",
    "La dependencia lineal ocurre cuando uno de los vectores se puede escribir como múltiplo de otro. Esto significa que su influencia en la generación de un espacio es redundante y no aporta dimensiones adicionales. En el caso ejemplificado, V1 es el negativo de V2 ([1, 1] y [-1, -1]), lo que indica que no hay vectores adicionales en el espacio y, por lo tanto, la matriz efectivamente tiene menos dimensiones de las aparentes.\n",
    "\n",
    "Consejos prácticos\n",
    "Analiza la independencia: Asegúrate de que los vectores en tu matriz son linealmente independientes para garantizar que puedes abarcar el subespacio necesario.\n",
    "Visualiza el espacio: Utiliza herramientas como gráficos para visualizar el espacio generado por los vectores, esto puede ofrecer una perspectiva valiosa que facilita la comprensión.\n",
    "Comprende las limitaciones: No todas las matrices pueden resolver para cualquier vector B; entiende las limitaciones de tus sistemas de ecuaciones.\n",
    "Con esta comprensión podrás abordar problemas de álgebra lineal con mayor confianza y habilidad. ¡Sigue explorando y practicando para fortalecer tu dominio sobre las matrices y las combinaciones lineales en los sistemas de ecuaciones!"
   ]
  },
  {
   "cell_type": "code",
   "execution_count": 1,
   "metadata": {},
   "outputs": [],
   "source": [
    "%matplotlib inline\n",
    "\n",
    "import numpy as np\n",
    "import matplotlib.pyplot as plt"
   ]
  },
  {
   "cell_type": "code",
   "execution_count": 2,
   "metadata": {},
   "outputs": [],
   "source": [
    "v1 = np.array([1,1])\n",
    "v2 = np.array([-1, -1])"
   ]
  },
  {
   "cell_type": "code",
   "execution_count": 3,
   "metadata": {},
   "outputs": [
    {
     "name": "stdout",
     "output_type": "stream",
     "text": [
      "[1 1]\n",
      "[-1 -1]\n"
     ]
    }
   ],
   "source": [
    "print(v1)\n",
    "print(v2)"
   ]
  },
  {
   "cell_type": "code",
   "execution_count": 4,
   "metadata": {},
   "outputs": [
    {
     "data": {
      "image/png": "[encoded data removed]",
      "text/plain": [
       "<Figure size 640x480 with 1 Axes>"
      ]
     },
     "metadata": {},
     "output_type": "display_data"
    }
   ],
   "source": [
    "for a in range(-10,10):\n",
    "    for b in range(-10, 10):\n",
    "        plt.scatter(v1[0]*a+v2[0]*b, v1[1]*a+v2[1]*b,\n",
    "                   marker = '.',\n",
    "                   color = 'orange')\n",
    "        \n",
    "plt.xlim(-25,25)\n",
    "plt.ylim(-25,25)\n",
    "\n",
    "plt.axvline(x=0, color = \"grey\")\n",
    "plt.axhline(y=0, color = \"grey\")\n",
    "\n",
    "plt.show()"
   ]
  },
  {
   "cell_type": "code",
   "execution_count": 5,
   "metadata": {},
   "outputs": [
    {
     "name": "stdout",
     "output_type": "stream",
     "text": [
      "[ True  True]\n"
     ]
    }
   ],
   "source": [
    "print(v1 == -1 * v2)"
   ]
  },
  {
   "cell_type": "code",
   "execution_count": null,
   "metadata": {},
   "outputs": [],
   "source": []
  }
 ],
 "metadata": {
  "kernelspec": {
   "display_name": "DE",
   "language": "python",
   "name": "python3"
  },
  "language_info": {
   "codemirror_mode": {
    "name": "ipython",
    "version": 3
   },
   "file_extension": ".py",
   "mimetype": "text/x-python",
   "name": "python",
   "nbconvert_exporter": "python",
   "pygments_lexer": "ipython3",
   "version": "3.10.16"
  }
 },
 "nbformat": 4,
 "nbformat_minor": 2
}
