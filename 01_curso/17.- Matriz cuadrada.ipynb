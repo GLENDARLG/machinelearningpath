{
 "cells": [
  {
   "cell_type": "markdown",
   "metadata": {},
   "source": [
    "Qué condiciones debe cumplir una matriz para que un sistema de ecuaciones lineales tenga solución?\n",
    "Para que un sistema de ecuaciones lineales tenga solución, es esencial que la matriz ( A ) que representa el sistema tenga ciertas características. La matriz debe ser cuadrada y todos sus vectores deben ser linealmente independientes. Esto significa que ninguno de los vectores que componen la matriz puede ser expresado como una combinación lineal de otros vectores. Ahora, veamos un ejemplo práctico.\n",
    "\n",
    "¿Cómo identificar matrices linealmente dependientes?\n",
    "Utilizar herramientas como NumPy en Python facilita la identificación de vectores linealmente dependientes en una matriz. Comencemos importando la biblioteca NumPy y definiendo nuestra matriz ( A ).\n",
    "    ´´´\n",
    "        import numpy as np\n",
    "\n",
    "        A = np.array([\n",
    "            [0, 0, 0, 0],\n",
    "            [0, 0, 1, 0],\n",
    "            [0, 1, 1, 0],\n",
    "            [1, 0, 0, 1]\n",
    "        ])\n",
    "    ´´´\n",
    "A primera vista, esta matriz parece cuadrada, puesto que tiene tantas filas como columnas. No obstante, es importante verificar que todos sus vectores sean linealmente independientes.\n",
    "\n",
    "¿Cómo se determina la dependencia lineal en una matriz?\n",
    "Una forma eficaz de identificar dependencias lineales es mediante el cálculo de los autovalores y autovectores de la matriz. Los autovalores iguales a cero son indicativos de dependencia lineal.\n",
    "\n",
    "Utilicemos NumPy para calcular estos valores.\n",
    "´´´\n",
    "    from numpy.linalg import eig\n",
    "\n",
    "    valores, vectores = eig(A)\n",
    "    # Detectamos los autovalores que son cero\n",
    "´´´\n",
    "Podemos observar que la tercera fila de la matriz ( A ), que se expresa como ([0, 1, 1, 0]), es linealmente dependiente, ya que puede escribirse como la suma de los vectores ([0, 1, 0, 0]) y ([0, 0, 1, 0]).\n",
    "\n",
    "¿Qué implicaciones tiene la dependencia lineal en una matriz?\n",
    "La presencia de vectores linealmente dependientes en una matriz tiene consecuencias significativas. Principalmente, esto implica que no se puede calcular la inversa de dicha matriz, y es conocida como una matriz singular. Probemos calcular la inversa de nuestra matriz ( A ).   \n",
    "´´´\n",
    "    from numpy.linalg import LinAlgError\n",
    "    try:\n",
    "        A_inv = np.linalg.inv(A)\n",
    "    except LinAlgError:\n",
    "        print(\"La matriz es singular y no tiene inversa.\")\n",
    "\n",
    "´´´\n",
    "Esta singularidad se debe a la presencia de al menos un vector que es una combinación lineal de otros vectores de la matriz. Si removemos los vectores dependientes, la matriz resultante perdería su forma cuadrada, al no tener la misma cantidad de filas y columnas.\n",
    "\n",
    "Estrategias para identificar vectores dependientes\n",
    "Otra estrategia es analizar las columnas de la matriz. En el ejemplo presentado, observamos que la primera y la cuarta columna son idénticas, indicando que una depende de la otra. La eliminación de estas similitudes puede facilitar la conversión de la matriz en una versión cuadrada y funcional para encontrar soluciones a los sistemas de ecuaciones.\n",
    "\n",
    "Conocer estas técnicas no solo es útil para las matemáticas teóricas, sino que también se aplica en diversos campos donde los sistemas de ecuaciones lineales juegan un papel fundamental, como la ingeniería, la economía y las ciencias computacionales. ¡Continúa explorando este fascinante mundo de las matrices y descubre cómo puedes aplicar estos conocimientos!    "
   ]
  },
  {
   "cell_type": "code",
   "execution_count": 10,
   "metadata": {},
   "outputs": [],
   "source": [
    "import numpy as np"
   ]
  },
  {
   "cell_type": "code",
   "execution_count": 11,
   "metadata": {},
   "outputs": [],
   "source": [
    "A = np.array(\n",
    "[\n",
    "[0,1,0,0],\n",
    "[0,0,1,0],\n",
    "[0,1,1,0],\n",
    "[1,0,0,1]]\n",
    ")"
   ]
  },
  {
   "cell_type": "code",
   "execution_count": 12,
   "metadata": {},
   "outputs": [
    {
     "name": "stdout",
     "output_type": "stream",
     "text": [
      "[[0 1 1 0]]\n"
     ]
    }
   ],
   "source": [
    "lambdas, V = np.linalg.eig(A.T)\n",
    "\n",
    "print(A[lambdas == 0, :])"
   ]
  },
  {
   "cell_type": "code",
   "execution_count": 13,
   "metadata": {},
   "outputs": [
    {
     "ename": "LinAlgError",
     "evalue": "Singular matrix",
     "output_type": "error",
     "traceback": [
      "\u001b[0;31m---------------------------------------------------------------------------\u001b[0m",
      "\u001b[0;31mLinAlgError\u001b[0m                               Traceback (most recent call last)",
      "Cell \u001b[0;32mIn[13], line 1\u001b[0m\n\u001b[0;32m----> 1\u001b[0m \u001b[43mnp\u001b[49m\u001b[38;5;241;43m.\u001b[39;49m\u001b[43mlinalg\u001b[49m\u001b[38;5;241;43m.\u001b[39;49m\u001b[43minv\u001b[49m\u001b[43m(\u001b[49m\u001b[43mA\u001b[49m\u001b[43m)\u001b[49m\n",
      "File \u001b[0;32m<__array_function__ internals>:180\u001b[0m, in \u001b[0;36minv\u001b[0;34m(*args, **kwargs)\u001b[0m\n",
      "File \u001b[0;32m~/miniconda3/envs/DE/lib/python3.10/site-packages/numpy/linalg/linalg.py:552\u001b[0m, in \u001b[0;36minv\u001b[0;34m(a)\u001b[0m\n\u001b[1;32m    550\u001b[0m signature \u001b[38;5;241m=\u001b[39m \u001b[38;5;124m'\u001b[39m\u001b[38;5;124mD->D\u001b[39m\u001b[38;5;124m'\u001b[39m \u001b[38;5;28;01mif\u001b[39;00m isComplexType(t) \u001b[38;5;28;01melse\u001b[39;00m \u001b[38;5;124m'\u001b[39m\u001b[38;5;124md->d\u001b[39m\u001b[38;5;124m'\u001b[39m\n\u001b[1;32m    551\u001b[0m extobj \u001b[38;5;241m=\u001b[39m get_linalg_error_extobj(_raise_linalgerror_singular)\n\u001b[0;32m--> 552\u001b[0m ainv \u001b[38;5;241m=\u001b[39m \u001b[43m_umath_linalg\u001b[49m\u001b[38;5;241;43m.\u001b[39;49m\u001b[43minv\u001b[49m\u001b[43m(\u001b[49m\u001b[43ma\u001b[49m\u001b[43m,\u001b[49m\u001b[43m \u001b[49m\u001b[43msignature\u001b[49m\u001b[38;5;241;43m=\u001b[39;49m\u001b[43msignature\u001b[49m\u001b[43m,\u001b[49m\u001b[43m \u001b[49m\u001b[43mextobj\u001b[49m\u001b[38;5;241;43m=\u001b[39;49m\u001b[43mextobj\u001b[49m\u001b[43m)\u001b[49m\n\u001b[1;32m    553\u001b[0m \u001b[38;5;28;01mreturn\u001b[39;00m wrap(ainv\u001b[38;5;241m.\u001b[39mastype(result_t, copy\u001b[38;5;241m=\u001b[39m\u001b[38;5;28;01mFalse\u001b[39;00m))\n",
      "File \u001b[0;32m~/miniconda3/envs/DE/lib/python3.10/site-packages/numpy/linalg/linalg.py:89\u001b[0m, in \u001b[0;36m_raise_linalgerror_singular\u001b[0;34m(err, flag)\u001b[0m\n\u001b[1;32m     88\u001b[0m \u001b[38;5;28;01mdef\u001b[39;00m\u001b[38;5;250m \u001b[39m\u001b[38;5;21m_raise_linalgerror_singular\u001b[39m(err, flag):\n\u001b[0;32m---> 89\u001b[0m     \u001b[38;5;28;01mraise\u001b[39;00m LinAlgError(\u001b[38;5;124m\"\u001b[39m\u001b[38;5;124mSingular matrix\u001b[39m\u001b[38;5;124m\"\u001b[39m)\n",
      "\u001b[0;31mLinAlgError\u001b[0m: Singular matrix"
     ]
    }
   ],
   "source": [
    "np.linalg.inv(A)"
   ]
  },
  {
   "cell_type": "code",
   "execution_count": null,
   "metadata": {},
   "outputs": [],
   "source": []
  }
 ],
 "metadata": {
  "kernelspec": {
   "display_name": "DE",
   "language": "python",
   "name": "python3"
  },
  "language_info": {
   "codemirror_mode": {
    "name": "ipython",
    "version": 3
   },
   "file_extension": ".py",
   "mimetype": "text/x-python",
   "name": "python",
   "nbconvert_exporter": "python",
   "pygments_lexer": "ipython3",
   "version": "3.10.16"
  }
 },
 "nbformat": 4,
 "nbformat_minor": 2
}
