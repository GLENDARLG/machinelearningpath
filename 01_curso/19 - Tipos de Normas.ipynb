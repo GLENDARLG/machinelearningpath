{
 "cells": [
  {
   "cell_type": "markdown",
   "metadata": {},
   "source": [
    "¿Qué son las normas y cómo se utilizan en aprendizaje automático?\n",
    "Las normas son herramientas fundamentales en el aprendizaje automático y otras áreas de la ciencia de datos utilizadas para medir diversas propiedades de los vectores. Existen diferentes tipos de normas que se emplean para calcular errores, distancias y más. En este artículo, exploraremos las normas más comunes y discutiremos cómo se pueden implementar utilizando la biblioteca NumPy en Python. Las normas que abordaremos incluyen L0, L1, L2 y la norma infinita.\n",
    "\n",
    "¿Cómo calcular la norma L0?\n",
    "La norma L0 es la más sencilla de entender: calcula la cantidad de elementos distintos de cero en un vector. Es útil para determinar elementos no nulos, por ejemplo, al evaluar la cantidad de compras realizadas por usuarios, donde cada componente del vector representa una compra. Este es el procedimiento para calcular la norma L0 en Python con NumPy:\n",
    "\n",
    "    ´´´\n",
    "    import numpy as np\n",
    "\n",
    "    # Definimos un vector\n",
    "    vector = np.array([1, 2, 0, 5, 6, 0])\n",
    "\n",
    "    # Calculamos la norma L0\n",
    "    norma_l0 = np.linalg.norm(vector, ord=0)\n",
    "\n",
    "    print(norma_l0)  # Devuelve 4, hay 4 elementos distintos de cero.\n",
    "    ¿Cómo se calcula la norma L1?\n",
    "    La norma L1, también conocida como norma de suma absoluta, entrega la suma de los valores absolutos de los componentes del vector. Esta norma cobra relevancia en situaciones donde necesitamos una medida que dependa linealmente de cada componente del vector:\n",
    "\n",
    "    # Definimos un vector con valores positivos y negativos\n",
    "    vector = np.array([1, -1, 1, -1, 1])\n",
    "\n",
    "    # Calculamos la norma L1\n",
    "    norma_l1 = np.linalg.norm(vector, ord=1)\n",
    "\n",
    "    print(norma_l1)  # Devuelve 5, la suma de valores absolutos.\n",
    "    ´´´\n",
    "\n",
    "¿Por qué es importante la norma L2?\n",
    "La norma L2 es probablemente la más conocida. Está relacionada con la distancia euclidiana, la medida estándar en geometría para calcular la distancia entre dos puntos en un espacio. Se utiliza ampliamente en aprendizaje automático debido a su simplicidad y eficacia computacional. Al elevar los componentes al cuadrado en lugar de tomar la raíz cuadrada, es posible optimizar algoritmos para mejorar el rendimiento:\n",
    "\n",
    "    ´´´\n",
    "    # Definimos un vector\n",
    "    vector = np.array([1, 1])\n",
    "\n",
    "    # Calculamos la norma L2\n",
    "    norma_l2 = np.linalg.norm(vector)\n",
    "\n",
    "    print(norma_l2)  # Devuelve aproximadamente 1.41, la raíz cuadrada de 2.\n",
    "\n",
    "    # Calculamos la norma L2 al cuadrado\n",
    "    norma_l2_squared = np.linalg.norm(vector) ** 2\n",
    "\n",
    "    print(norma_l2_squared)  # Devuelve 2.\n",
    "\n",
    "    # También se puede calcular usando el producto interno\n",
    "    norma_l2_squared_internal = np.dot(vector, vector)\n",
    "\n",
    "    print(norma_l2_squared_internal)  # Devuelve 2.\n",
    "    ´´´\n",
    "    \n",
    "¿Qué es la norma infinita y cómo se calcula?\n",
    "La norma infinita proporciona el valor absoluto más grande de un vector. Es útil en situaciones en las que necesitamos detectar valores extremos que puedan ser significativos para un análisis más detallado. Su cálculo en Python es sencillo usando NumPy:\n",
    "\n",
    "    ´´´ \n",
    "    # Definimos un vector con un valor prominente\n",
    "    vector = np.array([1, 2, 3, -100])\n",
    "\n",
    "    # Calculamos la norma infinita\n",
    "    norma_inf = np.linalg.norm(vector, ord=np.inf)\n",
    "    print(norma_inf)  # Devuelve 100, el valor absoluto máximo del vector.\n",
    "    ´´´\n",
    "\n",
    "\n",
    "Las normas son herramientas versátiles y potentes en el aprendizaje automático, desempeñando un papel crucial para evaluar diferentes aspectos de los datos de entrada. Su correcta aplicación puede mejorar significativamente la eficiencia de los algoritmos. A medida que avances en tus estudios y aplicaciones de machine learning, comprender y utilizar estas normas te será cada vez más indispensable. ¡Sigue aprendiendo y explorando el vasto mundo del aprendizaje automático!"
   ]
  },
  {
   "cell_type": "code",
   "execution_count": 1,
   "metadata": {},
   "outputs": [],
   "source": [
    "import numpy as np"
   ]
  },
  {
   "cell_type": "code",
   "execution_count": 10,
   "metadata": {},
   "outputs": [
    {
     "name": "stdout",
     "output_type": "stream",
     "text": [
      "5.0\n",
      "14.0\n",
      "8.12403840463596\n"
     ]
    }
   ],
   "source": [
    "vector = np.array([1,2,0,5,6,0])\n",
    "k= np.array([-50,-25,0,25,100,-300])\n",
    "print(np.linalg.norm(k, ord=0))\n",
    "print(np.linalg.norm(vector, ord=1))\n",
    "print(np.linalg.norm(vector, ord=2))"
   ]
  },
  {
   "cell_type": "code",
   "execution_count": 3,
   "metadata": {},
   "outputs": [
    {
     "name": "stdout",
     "output_type": "stream",
     "text": [
      "5.0\n"
     ]
    }
   ],
   "source": [
    "vector = np.array([1,-1,1,-1,1])\n",
    "\n",
    "print(np.linalg.norm(vector, ord=1))"
   ]
  },
  {
   "cell_type": "code",
   "execution_count": 4,
   "metadata": {},
   "outputs": [
    {
     "name": "stdout",
     "output_type": "stream",
     "text": [
      "1.0\n"
     ]
    }
   ],
   "source": [
    "vector = np.array([1,1])\n",
    "x= np.array([1/2,1/2,1/2,1/2])\n",
    "print(np.linalg.norm(x, ord=2))"
   ]
  },
  {
   "cell_type": "code",
   "execution_count": 5,
   "metadata": {},
   "outputs": [
    {
     "name": "stdout",
     "output_type": "stream",
     "text": [
      "1.4142135623730951\n",
      "1.4142135623730951\n"
     ]
    }
   ],
   "source": [
    "print(np.linalg.norm(vector))\n",
    "print(np.linalg.norm(vector, ord=2))"
   ]
  },
  {
   "cell_type": "code",
   "execution_count": 6,
   "metadata": {},
   "outputs": [
    {
     "name": "stdout",
     "output_type": "stream",
     "text": [
      "[1 2 3 4 5 6]\n"
     ]
    }
   ],
   "source": [
    "vector = np.array([1,2,3,4,5,6])\n",
    "print(vector)"
   ]
  },
  {
   "cell_type": "code",
   "execution_count": 7,
   "metadata": {},
   "outputs": [
    {
     "name": "stdout",
     "output_type": "stream",
     "text": [
      "91.0\n"
     ]
    }
   ],
   "source": [
    "print(np.linalg.norm(vector, ord=2)**2)"
   ]
  },
  {
   "cell_type": "code",
   "execution_count": 8,
   "metadata": {},
   "outputs": [
    {
     "name": "stdout",
     "output_type": "stream",
     "text": [
      "91\n"
     ]
    }
   ],
   "source": [
    "print(vector.T.dot(vector))"
   ]
  },
  {
   "cell_type": "code",
   "execution_count": 9,
   "metadata": {},
   "outputs": [
    {
     "name": "stdout",
     "output_type": "stream",
     "text": [
      "100.0\n"
     ]
    }
   ],
   "source": [
    "vector = np.array([1,2,3,-100])\n",
    "print(np.linalg.norm(vector, ord=np.inf))"
   ]
  },
  {
   "cell_type": "code",
   "execution_count": null,
   "metadata": {},
   "outputs": [],
   "source": []
  }
 ],
 "metadata": {
  "kernelspec": {
   "display_name": "DE",
   "language": "python",
   "name": "python3"
  },
  "language_info": {
   "codemirror_mode": {
    "name": "ipython",
    "version": 3
   },
   "file_extension": ".py",
   "mimetype": "text/x-python",
   "name": "python",
   "nbconvert_exporter": "python",
   "pygments_lexer": "ipython3",
   "version": "3.10.16"
  }
 },
 "nbformat": 4,
 "nbformat_minor": 2
}
