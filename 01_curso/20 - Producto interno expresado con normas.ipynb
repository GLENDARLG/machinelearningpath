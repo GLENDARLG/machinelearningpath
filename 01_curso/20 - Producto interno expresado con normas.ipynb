{
 "cells": [
  {
   "cell_type": "markdown",
   "metadata": {},
   "source": [
    "¿Cómo se relacionan las normas de los vectores y el producto interno con el ángulo que forman?\n",
    "Para comprender cómo interactúan los vectores, es esencial entender cómo se relaciona el producto interno con las normas de los vectores y el ángulo que forman entre sí. Esta relación puede simplificarse gracias a la fórmula del producto interno.\n",
    "\n",
    "Si consideramos dos vectores, ( V_1 ) y ( V_2 ), su producto interno ( V_1^T \\cdot V_2 ) se puede expresar como el producto de sus normas multiplicado por el coseno del ángulo que forman. Es decir:\n",
    "\n",
    "[ V_1^T \\cdot V_2 = |V_1|_2 \\cdot |V_2|_2 \\cdot \\cos(\\theta) ]\n",
    "\n",
    "Este enfoque no solo simplifica los cálculos algebraicos, sino que proporciona un entendimiento conceptual más intuitivo sobre cómo se relacionan los vectores en el espacio.\n",
    "\n",
    "¿Cómo podemos visualizar vectores y sus relaciones en Python?\n",
    "Visualizar vectores y entender sus relaciones es esencial para aquellos que trabajan con álgebra lineal. Python nos ofrece herramientas útiles como Matplotlib y NumPy para crear gráficos que representan vectores en un plano.\n",
    "\n",
    "Definición de vectores:\n",
    "\n",
    "import numpy as np\n",
    "import matplotlib.pyplot as plt\n",
    "\n",
    "# Definimos los vectores\n",
    "V1 = np.array([0, 3])\n",
    "V2 = np.array([3, 3])\n",
    "Gráfica de vectores:\n",
    "\n",
    "plt.figure()\n",
    "plt.xlim(-2, 6)\n",
    "plt.ylim(-2, 6)\n",
    "\n",
    "origin = np.array([0, 0])\n",
    "plt.quiver(*origin, *V1, angles='xy', scale_units='xy', scale=1, color='r')\n",
    "plt.quiver(*origin, *V2, angles='xy', scale_units='xy', scale=1, color='b')\n",
    "\n",
    "plt.grid()\n",
    "plt.show()\n",
    "Esta visualización nos permitirá observar la configuración espacial de nuestros vectores, entendiendo mejor el ángulo que forman y la interacción entre ellos.\n",
    "\n",
    "¿Cómo corroborar la igualdad entre el producto interno y otras expresiones?\n",
    "Una vez visualizados los vectores, se pueden realizar verificaciones matemáticas para confirmar la igualdad entre el producto interno calculado y otras expresiones utilizando las normas y el coseno del ángulo.\n",
    "\n",
    "Cálculo del producto interno:\n",
    "\n",
    "producto_interno = np.dot(V1, V2)\n",
    "Cálculo de las normas:\n",
    "\n",
    "norma_V1 = np.linalg.norm(V1)\n",
    "norma_V2 = np.linalg.norm(V2)\n",
    "Uso del coseno del ángulo:\n",
    "\n",
    "angulo_rad = np.arccos(np.dot(V1, V2) / (norma_V1 * norma_V2))\n",
    "coseno_angulo = np.cos(angulo_rad)\n",
    "Verificación de la igualdad:\n",
    "\n",
    "igualdad_verificada = norma_V1 * norma_V2 * coseno_angulo\n",
    "Al evaluar estas expresiones, confirmamos la validez de nuestra comprensión algebraica y geométrica.\n",
    "\n",
    "¿Por qué es útil conocer el ángulo entre vectores en machine learning?\n",
    "En el contexto de machine learning, conocer el ángulo entre vectores es crucial debido a la similitud coseno. Esta medida ayuda a identificar el grado de similitud entre documentos o conjuntos de datos.\n",
    "\n",
    "Similitud coseno: Si dos vectores que representan documentos tienen un ángulo pequeño, sus textos son similares.\n",
    "Ángulos de 90 grados: Indican que los documentos son completamente diferentes.\n",
    "La comprensión y aplicación de estos conceptos permiten a los profesionales de machine learning mejorar las técnicas de análisis de datos, facilitando una evaluación más precisa de patrones y relaciones en grandes volúmenes de información.\n",
    "\n",
    "Aprender a representar y analizar estos mecanismos te permitirá avanzar en campos tan diversos como el procesamiento del lenguaje natural, la visión por computadora y otras áreas donde las matemáticas y la representación espacial juegan un papel fundamental. ¡Sigue aprendiendo y explorando las infinitas posibilidades que estos conocimientos traen consigo!"
   ]
  },
  {
   "cell_type": "code",
   "execution_count": 1,
   "metadata": {},
   "outputs": [],
   "source": [
    "%matplotlib inline\n",
    "\n",
    "import numpy as np\n",
    "\n",
    "import matplotlib.pyplot as plt\n",
    "import seaborn as sns"
   ]
  },
  {
   "cell_type": "code",
   "execution_count": 2,
   "metadata": {},
   "outputs": [],
   "source": [
    "v1 = np.array([0,0,0,3])\n",
    "v2 = np.array([0,0,3,3])"
   ]
  },
  {
   "cell_type": "code",
   "execution_count": 3,
   "metadata": {},
   "outputs": [
    {
     "data": {
      "image/png": "[encoded data removed]",
      "text/plain": [
       "<Figure size 640x480 with 1 Axes>"
      ]
     },
     "metadata": {},
     "output_type": "display_data"
    }
   ],
   "source": [
    "plt.xlim(-2,6)\n",
    "plt.ylim(-2,6)\n",
    "\n",
    "plt.quiver([v1[0], v2[0]],\n",
    "           [v1[1], v2[1]],\n",
    "           [v1[2], v2[2]],\n",
    "           [v1[3], v2[3]],\n",
    "           angles = 'xy', scale_units = 'xy', scale = 1,\n",
    "           color = sns.color_palette()\n",
    "          )\n",
    "\n",
    "plt.show()"
   ]
  },
  {
   "cell_type": "code",
   "execution_count": 4,
   "metadata": {},
   "outputs": [
    {
     "name": "stdout",
     "output_type": "stream",
     "text": [
      "9\n"
     ]
    }
   ],
   "source": [
    "v1 = np.array([0,3])\n",
    "v2 = np.array([3,3])\n",
    "\n",
    "print(v1.T.dot(v2))"
   ]
  },
  {
   "cell_type": "code",
   "execution_count": 5,
   "metadata": {},
   "outputs": [
    {
     "name": "stdout",
     "output_type": "stream",
     "text": [
      "9.000000000000002\n"
     ]
    }
   ],
   "source": [
    "norma_v1 = np.linalg.norm(v1)\n",
    "norma_v2 = np.linalg.norm(v2)\n",
    "\n",
    "print(norma_v1 * norma_v2 * np.cos(np.deg2rad(45)))"
   ]
  },
  {
   "cell_type": "code",
   "execution_count": null,
   "metadata": {},
   "outputs": [],
   "source": []
  }
 ],
 "metadata": {
  "kernelspec": {
   "display_name": "DE",
   "language": "python",
   "name": "python3"
  },
  "language_info": {
   "codemirror_mode": {
    "name": "ipython",
    "version": 3
   },
   "file_extension": ".py",
   "mimetype": "text/x-python",
   "name": "python",
   "nbconvert_exporter": "python",
   "pygments_lexer": "ipython3",
   "version": "3.10.16"
  }
 },
 "nbformat": 4,
 "nbformat_minor": 2
}
