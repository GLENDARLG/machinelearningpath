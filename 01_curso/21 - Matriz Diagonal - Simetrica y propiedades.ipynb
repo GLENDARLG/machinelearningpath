{
 "cells": [
  {
   "cell_type": "markdown",
   "metadata": {},
   "source": [
    "¿Qué son las matrices diagonales?\n",
    "Las matrices diagonales son un tipo especial de matrices que tienen un valor numérico en cada una de las posiciones de su diagonal principal, mientras que todos los demás elementos fuera de esta diagonal son cero. Estas matrices son de gran importancia en el álgebra lineal debido a su simplicidad y características únicas. Pueden no necesariamente ser cuadradas, es decir, tener el mismo número de filas y columnas, aunque las matrices diagonales cuadradas son las más comunes y estudiadas.\n",
    "\n",
    "¿Cómo representamos una matriz diagonal en Python?\n",
    "En Python, las matrices diagonales se pueden crear fácilmente utilizando librerías como numpy. A continuación, se muestra cómo crear una matriz diagonal:\n",
    "\n",
    "import numpy as np\n",
    "\n",
    "# Definimos un vector con elementos 1, 2, 3, 4 y 5\n",
    "vector = np.array([1, 2, 3, 4, 5])\n",
    "\n",
    "# Creación de una matriz diagonal a partir del vector\n",
    "matriz_diagonal = np.diag(vector)\n",
    "\n",
    "print(matriz_diagonal)\n",
    "La matriz resultante tendrá los elementos del vector en su diagonal principal y ceros en el resto de las posiciones.\n",
    "\n",
    "¿Por qué las matrices diagonales facilitan las multiplicaciones con vectores?\n",
    "Una de las particularidades de las matrices diagonales es que al multiplicarlas por un vector, no se realiza una combinación lineal compleja de las distintas coordenadas. En cambio, cada elemento del vector es simplemente multiplicado por el correspondiente elemento diagonal. Este hecho hace que las matrices diagonales resulten útiles y sencillas al realizar cálculos.\n",
    "\n",
    "Por ejemplo:\n",
    "\n",
    "# Matriz diagonal con elementos en la diagonal 2, 3, 4, 5\n",
    "matriz = np.diag([2, 3, 4, 5])\n",
    "\n",
    "# Definimos un vector con todos unos\n",
    "vector_unos = np.ones(4)\n",
    "\n",
    "# Producto de la matriz con el vector\n",
    "resultado = matriz.dot(vector_unos)\n",
    "\n",
    "print(resultado)\n",
    "El resultado será un vector donde cada elemento es la multiplicación directa de los componentes originales del vector por los elementos en la diagonal de la matriz.\n",
    "\n",
    "¿Cómo se calcula la inversa de una matriz diagonal?\n",
    "Calcular la inversa de una matriz diagonal es simple. La inversa de una matriz diagonal es otra matriz diagonal donde cada elemento en la diagonal es el inverso multiplicativo (es decir, 1 dividido por el elemento) del elemento en la matriz original.\n",
    "\n",
    "Implementación en Python\n",
    "Para demostrarlo con Python:\n",
    "\n",
    "# Calculamos la inversa de una matriz diagonal\n",
    "matriz_inversa = np.diag([1/2, 1/3, 1/4, 1/5])\n",
    "\n",
    "# Producto interno para verificar que es la inversa\n",
    "identidad = matriz.dot(matriz_inversa)\n",
    "\n",
    "print(identidad)\n",
    "El resultado debería ser una matriz identidad, confirmando así que se ha calculado correctamente la inversa.\n",
    "\n",
    "¿Qué caracteriza a las matrices simétricas?\n",
    "Una matriz es simétrica si es igual a su transpuesta. Esto implica que los elementos situados en posiciones coincidentes con respecto a su diagonal principal son iguales. Para una matriz general, esto es más complicado que para las matrices diagonales, ya que estas últimas son siempre simétricas por definición: tienen ceros tanto abajo como arriba de la diagonal principal.\n",
    "\n",
    "Ejemplo de matriz simétrica\n",
    "# Definimos una matriz simétrica\n",
    "matriz_simetrica = np.array([[1, 2, 3], \n",
    "                             [2, -1, 7], \n",
    "                             [3, 7, 11]])\n",
    "\n",
    "# Transpuesta de la matriz\n",
    "transpuesta = matriz_simetrica.T\n",
    "\n",
    "# Verificamos si la matriz es simétrica\n",
    "es_simetrica = np.array_equal(matriz_simetrica, transpuesta)\n",
    "\n",
    "print(es_simetrica)\n",
    "Esta verificación nos muestra que efectivamente la matriz definida es simétrica ya que es igual a su transpuesta.\n",
    "\n",
    "Aprender sobre matrices diagonales y simétricas enriquece nuestra comprensión y capacidad de trabajar más eficientemente con el álgebra lineal. ¡Sigue explorando estas fascinantes herramientas matemáticas!"
   ]
  },
  {
   "cell_type": "code",
   "execution_count": 14,
   "metadata": {},
   "outputs": [],
   "source": [
    "import numpy as np"
   ]
  },
  {
   "cell_type": "code",
   "execution_count": 2,
   "metadata": {},
   "outputs": [
    {
     "name": "stdout",
     "output_type": "stream",
     "text": [
      "[[1 0 0 0 0]\n",
      " [0 2 0 0 0]\n",
      " [0 0 3 0 0]\n",
      " [0 0 0 4 0]\n",
      " [0 0 0 0 5]]\n"
     ]
    }
   ],
   "source": [
    "vector = np.array([1,2,3,4,5])\n",
    "\n",
    "matriz = np.diag(vector)\n",
    "\n",
    "print(matriz)"
   ]
  },
  {
   "cell_type": "code",
   "execution_count": 3,
   "metadata": {},
   "outputs": [
    {
     "name": "stdout",
     "output_type": "stream",
     "text": [
      "[[1 0 0]\n",
      " [0 2 0]\n",
      " [0 0 3]\n",
      " [0 0 0]]\n"
     ]
    }
   ],
   "source": [
    "print(matriz[0:4,0:3])"
   ]
  },
  {
   "cell_type": "code",
   "execution_count": 4,
   "metadata": {},
   "outputs": [
    {
     "name": "stdout",
     "output_type": "stream",
     "text": [
      "[[1 0 0 0]\n",
      " [0 2 0 0]\n",
      " [0 0 3 0]]\n"
     ]
    }
   ],
   "source": [
    "print(matriz[0:3,0:4])"
   ]
  },
  {
   "cell_type": "code",
   "execution_count": 5,
   "metadata": {},
   "outputs": [
    {
     "name": "stdout",
     "output_type": "stream",
     "text": [
      "[[2 0 0 0]\n",
      " [0 3 0 0]\n",
      " [0 0 4 0]\n",
      " [0 0 0 5]]\n"
     ]
    }
   ],
   "source": [
    "A = np.diag([2,3,4,5])\n",
    "print(A)"
   ]
  },
  {
   "cell_type": "code",
   "execution_count": 6,
   "metadata": {},
   "outputs": [
    {
     "name": "stdout",
     "output_type": "stream",
     "text": [
      "[[1 1 1 1]]\n",
      "[[2]\n",
      " [3]\n",
      " [4]\n",
      " [5]]\n"
     ]
    }
   ],
   "source": [
    "v1 = np.array([[1,1,1,1]])\n",
    "\n",
    "print(v1)\n",
    "\n",
    "print(A.dot(v1.T))"
   ]
  },
  {
   "cell_type": "code",
   "execution_count": 7,
   "metadata": {},
   "outputs": [
    {
     "name": "stdout",
     "output_type": "stream",
     "text": [
      "[[0.5        0.         0.         0.        ]\n",
      " [0.         0.33333333 0.         0.        ]\n",
      " [0.         0.         0.25       0.        ]\n",
      " [0.         0.         0.         0.2       ]]\n"
     ]
    }
   ],
   "source": [
    "A_inv = np.diag([1/2,1/3,1/4,1/5])\n",
    "print(A_inv)"
   ]
  },
  {
   "cell_type": "code",
   "execution_count": 8,
   "metadata": {},
   "outputs": [
    {
     "name": "stdout",
     "output_type": "stream",
     "text": [
      "[[1. 0. 0. 0.]\n",
      " [0. 1. 0. 0.]\n",
      " [0. 0. 1. 0.]\n",
      " [0. 0. 0. 1.]]\n"
     ]
    }
   ],
   "source": [
    "identidad = A.dot(A_inv)\n",
    "\n",
    "print(identidad)"
   ]
  },
  {
   "cell_type": "code",
   "execution_count": 9,
   "metadata": {},
   "outputs": [
    {
     "name": "stdout",
     "output_type": "stream",
     "text": [
      "[[0.5        0.         0.         0.        ]\n",
      " [0.         0.33333333 0.         0.        ]\n",
      " [0.         0.         0.25       0.        ]\n",
      " [0.         0.         0.         0.2       ]]\n"
     ]
    }
   ],
   "source": [
    "A_inv_calc = np.linalg.inv(A)\n",
    "print(A_inv_calc)"
   ]
  },
  {
   "cell_type": "code",
   "execution_count": 10,
   "metadata": {},
   "outputs": [
    {
     "name": "stdout",
     "output_type": "stream",
     "text": [
      "[[2 0 0 0]\n",
      " [0 3 0 0]\n",
      " [0 0 4 0]\n",
      " [0 0 0 5]]\n"
     ]
    }
   ],
   "source": [
    "print(A.T)"
   ]
  },
  {
   "cell_type": "code",
   "execution_count": 11,
   "metadata": {},
   "outputs": [
    {
     "name": "stdout",
     "output_type": "stream",
     "text": [
      "[[2 0 0 0]\n",
      " [0 3 0 0]\n",
      " [0 0 4 0]\n",
      " [0 0 0 5]]\n"
     ]
    }
   ],
   "source": [
    "print(A)"
   ]
  },
  {
   "cell_type": "code",
   "execution_count": 12,
   "metadata": {},
   "outputs": [
    {
     "name": "stdout",
     "output_type": "stream",
     "text": [
      "[[ 1  2  3]\n",
      " [ 2 -1  7]\n",
      " [ 3  7 11]]\n"
     ]
    }
   ],
   "source": [
    "simetrica = np.array([[1,2,3],\n",
    "                      [2,-1,7],\n",
    "                      [3,7,11]])\n",
    "print(simetrica)"
   ]
  },
  {
   "cell_type": "code",
   "execution_count": 13,
   "metadata": {},
   "outputs": [
    {
     "name": "stdout",
     "output_type": "stream",
     "text": [
      "[[ 1  2  3]\n",
      " [ 2 -1  7]\n",
      " [ 3  7 11]]\n"
     ]
    }
   ],
   "source": [
    "print(simetrica.T)"
   ]
  },
  {
   "cell_type": "code",
   "execution_count": null,
   "metadata": {},
   "outputs": [],
   "source": []
  }
 ],
 "metadata": {
  "kernelspec": {
   "display_name": "DE",
   "language": "python",
   "name": "python3"
  },
  "language_info": {
   "codemirror_mode": {
    "name": "ipython",
    "version": 3
   },
   "file_extension": ".py",
   "mimetype": "text/x-python",
   "name": "python",
   "nbconvert_exporter": "python",
   "pygments_lexer": "ipython3",
   "version": "3.10.16"
  }
 },
 "nbformat": 4,
 "nbformat_minor": 2
}
