{
 "cells": [
  {
   "cell_type": "markdown",
   "metadata": {},
   "source": [
    "¿Qué son los vectores ortogonales y cómo identificarlos en Python?\n",
    "Los vectores ortogonales son un concepto fundamental en álgebra lineal, esencial para múltiples aplicaciones en el análisis de datos y la computación gráfica. Dos vectores son ortogonales si el ángulo entre ellos es de 90 grados —en otras palabras, son perpendiculares. En este contenido, abordaremos cómo identificar vectores ortogonales mediante cálculos en Python, proporcionando tanto los fundamentos teóricos como las implementaciones prácticas.\n",
    "\n",
    "¿Cómo calcular vectores ortogonales?\n",
    "Para determinar si dos vectores son ortogonales, el producto interno (o producto punto) entre ellos debe ser igual a cero. Este producto es una medida crucial que no solo nos informa del ángulo entre los vectores sino también de su relación en el espacio multidimensional.\n",
    "\n",
    "import numpy as np\n",
    "import matplotlib.pyplot as plt\n",
    "\n",
    "# Definimos los vectores\n",
    "vector_x = np.array([2, 2])\n",
    "vector_y = np.array([2, -2])\n",
    "\n",
    "# Producto interno\n",
    "producto_interno = np.dot(vector_x, vector_y)\n",
    "print(\"Producto Interno:\", producto_interno)\n",
    "\n",
    "# Resultado: Producto Interno: 0\n",
    "En este caso, dado que el producto interno es cero, podemos confirmar que los vectores vector_x y vector_y son ortogonales.\n",
    "\n",
    "¿Qué significa ser ortonormal?\n",
    "El concepto de vectores ortonormales va un paso más allá. Un conjunto de vectores es ortonormal si son mutuamente ortogonales y, además, cada vector tiene una norma (o longitud) de uno. La normalización se consigue dividiendo cada vector por su propia norma.\n",
    "\n",
    "# Calculamos la norma de los vectores\n",
    "norma_v1 = np.linalg.norm(vector_x)\n",
    "norma_v2 = np.linalg.norm(vector_y)\n",
    "\n",
    "# Verificamos si son ortonormales\n",
    "print(\"Norma de vector_x:\", norma_v1)\n",
    "print(\"Norma de vector_y:\", norma_v2)\n",
    "\n",
    "# Normalización\n",
    "vector_x_normal = vector_x / norma_v1\n",
    "vector_y_normal = vector_y / norma_v2\n",
    "\n",
    "# Nuevo Producto Interno (de vectores normalizados)\n",
    "producto_interno_norm = np.dot(vector_x_normal, vector_y_normal)\n",
    "print(\"Producto Interno Normalizado:\", producto_interno_norm)\n",
    "\n",
    "# Resultado: Los vectores normalizados pueden seguir siendo ortogonales si el producto sigue siendo 0\n",
    "Al dividir cada vector por su norma, verificamos que el nuevo producto interno siga siendo cero, lo que conlleva que los vectores son ortonormales.\n",
    "\n",
    "¿Cómo influye la dimensión del espacio en la ortogonalidad?\n",
    "En el espacio de dimensión n (R^n), el número máximo de vectores que pueden ser mutuamente ortogonales es n. Por ejemplo, en dos dimensiones (R^2), solo puede haber dos vectores mutuamente ortogonales, ya que cualquier intento de agregar un tercer vector requeriría una dimensión adicional.\n",
    "\n",
    "La ortogonalidad y ortonormalidad son pilares en áreas como el análisis de datos y el aprendizaje automático, donde te permiten simplificar cálculos al trabajar con bases ortogonales. Continúa explorando aspectos avanzados de álgebra lineal, ya que cada elemento nuevo que aprendas te abrirá más posibilidades en el campo de la computación y el análisis de datos. ¡Sigue adelante!"
   ]
  },
  {
   "cell_type": "code",
   "execution_count": 1,
   "metadata": {},
   "outputs": [],
   "source": [
    "%matplotlib inline\n",
    "\n",
    "import numpy as np\n",
    "import matplotlib.pyplot as plt"
   ]
  },
  {
   "cell_type": "code",
   "execution_count": 2,
   "metadata": {},
   "outputs": [
    {
     "data": {
      "image/png": "[encoded data removed]",
      "text/plain": [
       "<Figure size 640x480 with 1 Axes>"
      ]
     },
     "metadata": {},
     "output_type": "display_data"
    }
   ],
   "source": [
    "x = np.array([0,0,2,2])\n",
    "y = np.array([0,0,2,-2])\n",
    "\n",
    "plt.quiver([x[0], y[0]],\n",
    "           [x[1], y[1]],\n",
    "           [x[2], y[2]],\n",
    "           [x[3], y[3]],\n",
    "           angles = 'xy', scale_units ='xy', scale=1\n",
    "          )\n",
    "\n",
    "plt.xlim(-2,4)\n",
    "plt.ylim(-3,3)\n",
    "\n",
    "plt.show()"
   ]
  },
  {
   "cell_type": "code",
   "execution_count": 9,
   "metadata": {},
   "outputs": [
    {
     "name": "stdout",
     "output_type": "stream",
     "text": [
      "[[1 0]]\n",
      "[[ 0 -1]]\n"
     ]
    }
   ],
   "source": [
    "v = np.array([[7,-7,3]])\n",
    "u = np.array([[1,1,0]])\n",
    "w = np.array([[0,0,1]])\n",
    "\n",
    "print(v1)\n",
    "print(v2)\n"
   ]
  },
  {
   "cell_type": "code",
   "execution_count": 11,
   "metadata": {},
   "outputs": [
    {
     "name": "stdout",
     "output_type": "stream",
     "text": [
      "[[0]]\n",
      "[[3]]\n",
      "[[0]]\n"
     ]
    }
   ],
   "source": [
    "print(v.dot(u.T))\n",
    "print(v.dot(w.T))\n",
    "print(u.dot(w.T))"
   ]
  },
  {
   "cell_type": "code",
   "execution_count": 5,
   "metadata": {},
   "outputs": [
    {
     "name": "stdout",
     "output_type": "stream",
     "text": [
      "322.10246816812815\n",
      "1.4142135623730951\n"
     ]
    }
   ],
   "source": [
    "v1= [-50,-25,0,25,100,-300]\n",
    "print(np.linalg.norm(v1))\n",
    "print(np.linalg.norm(v2))"
   ]
  },
  {
   "cell_type": "code",
   "execution_count": 6,
   "metadata": {},
   "outputs": [],
   "source": [
    "v1 = np.array([[1,0]])\n",
    "v2 = np.array([[0,-1]])"
   ]
  },
  {
   "cell_type": "code",
   "execution_count": 7,
   "metadata": {},
   "outputs": [
    {
     "name": "stdout",
     "output_type": "stream",
     "text": [
      "[[0]]\n"
     ]
    }
   ],
   "source": [
    "print(v1.dot(v2.T))"
   ]
  },
  {
   "cell_type": "code",
   "execution_count": 8,
   "metadata": {},
   "outputs": [
    {
     "name": "stdout",
     "output_type": "stream",
     "text": [
      "1.0\n",
      "1.0\n"
     ]
    }
   ],
   "source": [
    "print(np.linalg.norm(v1))\n",
    "print(np.linalg.norm(v2))"
   ]
  },
  {
   "cell_type": "code",
   "execution_count": null,
   "metadata": {},
   "outputs": [],
   "source": []
  }
 ],
 "metadata": {
  "kernelspec": {
   "display_name": "DE",
   "language": "python",
   "name": "python3"
  },
  "language_info": {
   "codemirror_mode": {
    "name": "ipython",
    "version": 3
   },
   "file_extension": ".py",
   "mimetype": "text/x-python",
   "name": "python",
   "nbconvert_exporter": "python",
   "pygments_lexer": "ipython3",
   "version": "3.10.16"
  }
 },
 "nbformat": 4,
 "nbformat_minor": 2
}
