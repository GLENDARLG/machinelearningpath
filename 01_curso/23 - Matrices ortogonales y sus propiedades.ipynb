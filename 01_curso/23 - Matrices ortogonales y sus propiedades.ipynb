{
 "cells": [
  {
   "cell_type": "markdown",
   "metadata": {},
   "source": [
    "Resumen\n",
    "\n",
    "¿Qué es una matriz ortogonal?\n",
    "Una matriz es considerada ortogonal cuando todas sus filas y columnas son mutuamente ortonormales. En términos de álgebra lineal, esto significa que, si nuestras filas y columnas son tratadas como vectores, estos deben ser mutuamente ortonormales. Veamos cómo comprobar si una matriz es ortogonal utilizando Python y la biblioteca numpy.\n",
    "\n",
    "¿Cómo construir una matriz ortogonal en Python?\n",
    "Para ilustrar el concepto de matrices ortogonales, podemos hacer un ejemplo práctico usando Python y la biblioteca numpy. Python es ampliamente utilizado en la programación matemática debido a sus potentes bibliotecas como numpy para cálculos numéricos.\n",
    "\n",
    "import numpy as np\n",
    "\n",
    "# Definimos una matriz de ejemplo\n",
    "matrix = np.array([[1, 0, 0],\n",
    "                   [0, 1, 0],\n",
    "                   [0, 0, 1]])\n",
    "\n",
    "# Imprimimos la matriz\n",
    "print(matrix)\n",
    "La matriz definida es la matriz identidad, que es trivialmente una matriz ortogonal.\n",
    "\n",
    "¿Cómo comprobar si una matriz es ortogonal?\n",
    "Para verificar que una matriz es ortogonal, debemos:\n",
    "\n",
    "Comprobar ortogonalidad de las columnas: Todas las columnas deben ser ortogonales entre sí, lo cual implica que el producto interno de cualquier par de columnas distintas sea cero.\n",
    "Validar sus normas: Cada columna debe tener norma uno.\n",
    "Verificación de ortogonalidad de las columnas\n",
    "# Producto interno de columnas\n",
    "dot_product_12 = np.dot(matrix[:, 0], matrix[:, 1])\n",
    "dot_product_13 = np.dot(matrix[:, 0], matrix[:, 2])\n",
    "dot_product_23 = np.dot(matrix[:, 1], matrix[:, 2])\n",
    "\n",
    "print(dot_product_12, dot_product_13, dot_product_23)  # Debería ser 0\n",
    "Validación de las normas de las columnas\n",
    "norm_col1 = np.linalg.norm(matrix[:, 0])\n",
    "norm_col2 = np.linalg.norm(matrix[:, 1])\n",
    "norm_col3 = np.linalg.norm(matrix[:, 2])\n",
    "\n",
    "print(norm_col1, norm_col2, norm_col3)  # Debería ser 1\n",
    "Los vectores son ortonormales si tienen norma 1, como vemos en el ejemplo anterior.\n",
    "\n",
    "¿Qué es una matriz ortonormal?\n",
    "Aunque comunmente los términos \"matriz ortogonal\" y \"ortonormal\" se usan indistintamente, técnicamente todas las matrices ortogonales consisten en vectores ortonormales. No hay necesidad de distinguir entre los dos términos, ya que cualquier matriz ortogonal tiene por definición vectores ortonormales.\n",
    "\n",
    "¿Cómo generar matrices ortogonales con Python y trigonometría?\n",
    "Podemos usar funciones trigonométricas para generar matrices ortogonales. Veamos un ejemplo usando las funciones seno y coseno:\n",
    "\n",
    "theta = np.pi / 4  # Ángulo de 45 grados\n",
    "\n",
    "# Definición de la matriz\n",
    "matrix = np.array([[np.cos(theta), -np.sin(theta)],\n",
    "                   [np.sin(theta), np.cos(theta)]])\n",
    "\n",
    "print(matrix)\n",
    "Ahora, para verificar la propiedad ortogonal, podemos comprobar que la multiplicación de la matriz por su transpuesta da como resultado la matriz identidad:\n",
    "\n",
    "# Calcular transpuesta y multiplicar\n",
    "transpose = matrix.T\n",
    "identity_check = np.dot(transpose, matrix)\n",
    "\n",
    "print(identity_check)  # Debería ser la matriz identidad\n",
    "La práctica de construir y verificar matrices ortogonales nos ayuda a comprender y aplicar estos conceptos en problemas matemáticos reales, a la vez que desarrollamos cuidado al trabajar con cálculos numéricos en Python, evitando la amplificación de errores debido a imprecisiones computacionales. ¡Sigue explorando la magia de las matemáticas y la programación!"
   ]
  },
  {
   "cell_type": "code",
   "execution_count": 32,
   "metadata": {},
   "outputs": [],
   "source": [
    "import numpy as np"
   ]
  },
  {
   "cell_type": "code",
   "execution_count": 33,
   "metadata": {},
   "outputs": [
    {
     "name": "stdout",
     "output_type": "stream",
     "text": [
      "[[1 0 0]\n",
      " [0 1 0]\n",
      " [0 0 1]]\n"
     ]
    }
   ],
   "source": [
    "matriz = np.array([[1,0,0],\n",
    "                   [0,1,0],\n",
    "                   [0,0,1]\n",
    "                  ])\n",
    "print(matriz)"
   ]
  },
  {
   "cell_type": "code",
   "execution_count": 34,
   "metadata": {},
   "outputs": [
    {
     "name": "stdout",
     "output_type": "stream",
     "text": [
      "0\n"
     ]
    }
   ],
   "source": [
    "print(matriz[:,0].dot(matriz[:,1]))"
   ]
  },
  {
   "cell_type": "code",
   "execution_count": 35,
   "metadata": {},
   "outputs": [
    {
     "name": "stdout",
     "output_type": "stream",
     "text": [
      "0\n"
     ]
    }
   ],
   "source": [
    "print(matriz[:,0].dot(matriz[:,2]))"
   ]
  },
  {
   "cell_type": "code",
   "execution_count": 36,
   "metadata": {},
   "outputs": [
    {
     "name": "stdout",
     "output_type": "stream",
     "text": [
      "0\n"
     ]
    }
   ],
   "source": [
    "print(matriz[:,1].dot(matriz[:,2]))"
   ]
  },
  {
   "cell_type": "code",
   "execution_count": 37,
   "metadata": {},
   "outputs": [
    {
     "name": "stdout",
     "output_type": "stream",
     "text": [
      "1.0\n",
      "1.0\n",
      "1.0\n"
     ]
    }
   ],
   "source": [
    "print(np.linalg.norm(matriz[:,0]))\n",
    "print(np.linalg.norm(matriz[:,1]))\n",
    "print(np.linalg.norm(matriz[:,2]))"
   ]
  },
  {
   "cell_type": "code",
   "execution_count": 38,
   "metadata": {},
   "outputs": [
    {
     "name": "stdout",
     "output_type": "stream",
     "text": [
      "0\n",
      "0\n",
      "0\n"
     ]
    }
   ],
   "source": [
    "print(matriz[0,:].dot(matriz[1,:]))\n",
    "print(matriz[0,:].dot(matriz[2,:]))\n",
    "print(matriz[1,:].dot(matriz[2,:]))"
   ]
  },
  {
   "cell_type": "code",
   "execution_count": 39,
   "metadata": {},
   "outputs": [
    {
     "name": "stdout",
     "output_type": "stream",
     "text": [
      "1.0\n",
      "1.0\n",
      "1.0\n"
     ]
    }
   ],
   "source": [
    "print(np.linalg.norm(matriz[0,:]))\n",
    "print(np.linalg.norm(matriz[1,:]))\n",
    "print(np.linalg.norm(matriz[2,:]))"
   ]
  },
  {
   "cell_type": "code",
   "execution_count": 40,
   "metadata": {},
   "outputs": [
    {
     "name": "stdout",
     "output_type": "stream",
     "text": [
      "[[ 0.86231887  0.50636564]\n",
      " [-0.50636564  0.86231887]]\n"
     ]
    }
   ],
   "source": [
    "A = np.array([[np.cos(100), -np.sin(100)],\n",
    "             [np.sin(100), np.cos(100)]])\n",
    "print(A)"
   ]
  },
  {
   "cell_type": "code",
   "execution_count": 41,
   "metadata": {},
   "outputs": [
    {
     "name": "stdout",
     "output_type": "stream",
     "text": [
      "0.9999999999999999\n",
      "0.9999999999999999\n",
      "0.9999999999999999\n",
      "0.9999999999999999\n"
     ]
    }
   ],
   "source": [
    "print(np.linalg.norm(A[0,:]))\n",
    "print(np.linalg.norm(A[1,:]))\n",
    "print(np.linalg.norm(A[:,0]))\n",
    "print(np.linalg.norm(A[:,1]))"
   ]
  },
  {
   "cell_type": "code",
   "execution_count": 42,
   "metadata": {},
   "outputs": [
    {
     "name": "stdout",
     "output_type": "stream",
     "text": [
      "0.0\n",
      "0.0\n"
     ]
    }
   ],
   "source": [
    "print(A[0,:].dot(A[1,:]))\n",
    "print(A[:,0].dot(A[:,1]))"
   ]
  },
  {
   "cell_type": "code",
   "execution_count": 43,
   "metadata": {},
   "outputs": [
    {
     "name": "stdout",
     "output_type": "stream",
     "text": [
      "[[ 1.0000000e+00 -2.3223391e-17]\n",
      " [-2.3223391e-17  1.0000000e+00]]\n",
      "[[1.0000000e+00 2.3223391e-17]\n",
      " [2.3223391e-17 1.0000000e+00]]\n"
     ]
    }
   ],
   "source": [
    "A_t = A.T\n",
    "print(A_t.dot(A))\n",
    "print(A.dot(A_t))"
   ]
  },
  {
   "cell_type": "code",
   "execution_count": 44,
   "metadata": {},
   "outputs": [
    {
     "name": "stdout",
     "output_type": "stream",
     "text": [
      "[[ 0.86231887 -0.50636564]\n",
      " [ 0.50636564  0.86231887]]\n"
     ]
    }
   ],
   "source": [
    "A_inv = np.linalg.inv(A)\n",
    "print(A_inv)"
   ]
  },
  {
   "cell_type": "code",
   "execution_count": 45,
   "metadata": {},
   "outputs": [
    {
     "name": "stdout",
     "output_type": "stream",
     "text": [
      "[[ 0.86231887 -0.50636564]\n",
      " [ 0.50636564  0.86231887]]\n"
     ]
    }
   ],
   "source": [
    "print(A_t)"
   ]
  },
  {
   "cell_type": "code",
   "execution_count": 46,
   "metadata": {},
   "outputs": [
    {
     "name": "stdout",
     "output_type": "stream",
     "text": [
      "[[ 1.00000000e+00 -4.30600337e+16]\n",
      " [-4.30600337e+16  1.00000000e+00]]\n"
     ]
    }
   ],
   "source": [
    "print(1/A_t.dot(A))"
   ]
  },
  {
   "cell_type": "code",
   "execution_count": null,
   "metadata": {},
   "outputs": [],
   "source": []
  }
 ],
 "metadata": {
  "kernelspec": {
   "display_name": "DE",
   "language": "python",
   "name": "python3"
  },
  "language_info": {
   "codemirror_mode": {
    "name": "ipython",
    "version": 3
   },
   "file_extension": ".py",
   "mimetype": "text/x-python",
   "name": "python",
   "nbconvert_exporter": "python",
   "pygments_lexer": "ipython3",
   "version": "3.10.16"
  }
 },
 "nbformat": 4,
 "nbformat_minor": 2
}
