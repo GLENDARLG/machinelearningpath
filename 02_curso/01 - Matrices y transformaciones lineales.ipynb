{
 "cells": [
  {
   "cell_type": "markdown",
   "metadata": {},
   "source": [
    "¿Cómo entendemos las matrices como transformaciones lineales?\n",
    "Las matrices pueden entenderse como transformaciones lineales que, al aplicarse a un espacio o un vector, generan una transformación. Cuando aplicamos una matriz, podemos afectar a un vector modificando su tamaño o incluso rotándolo. En el mundo de la programación, podemos llevar esto a la práctica utilizando Python y librerías como NumPy y Matplotlib para representar gráficamente estos cambios.\n",
    "\n",
    "¿Cómo configuramos nuestro entorno en Python para visualizaciones?\n",
    "Para empezar, necesitamos importar las librerías necesarias. Aquí va un pequeño fragmento de código en Python que nos permitirá ver los gráficos debajo de cada celda de nuestro notebook:\n",
    "\n",
    "import numpy as np\n",
    "import matplotlib.pyplot as plt\n",
    "%matplotlib inline\n",
    "Posteriormente, definimos nuestras matrices y vectores usando numpy.\n",
    "\n",
    "¿Cómo definimos y aplicamos una transformación con matrices?\n",
    "Supongamos que tenemos la siguiente matriz:\n",
    "\n",
    "A = np.array([[-1, 3], [2, -2]])\n",
    "Queremos investigar qué transformación genera esta matriz al aplicarla al siguiente vector:\n",
    "\n",
    "v = np.array([2, 1])\n",
    "La transformación de un vector v usando una matriz A se realiza a través del producto interno de la matriz y el vector. Pero antes de eso, definamos una función para graficar los vectores.\n",
    "\n",
    "¿Cómo graficamos vectores en Python?\n",
    "Es útil tener una función versátil para graficar múltiples vectores. Aquí hay una base de cómo podemos definir y utilizar esta función:\n",
    "\n",
    "def graficar_vectores(vectores, colores, alpha=1):\n",
    "    plt.figure()\n",
    "    plt.axvline(x=0, color='grey', lw=1)\n",
    "    plt.axhline(y=0, color='grey', lw=1)\n",
    "    for i in range(len(vectores)):\n",
    "        x = np.concatenate([[0, 0], vectores[i]])\n",
    "        plt.quiver(*x[::2], *x[1::2], angles='xy', scale_units='xy', scale=1, color=colores[i], alpha=alpha)\n",
    "    plt.xlim(-3, 3)\n",
    "    plt.ylim(-3, 3)\n",
    "    plt.show()\n",
    "\n",
    "v_flaten = v.flatten()\n",
    "graficar_vectores([v_flaten], ['blue'])\n",
    "Esta función ayuda a visualizar cómo han cambiado los vectores al ser transformados por la matriz. Los ejes cruzan en x=0 y el color de las líneas es gris.\n",
    "\n",
    "¿Cómo se transforman los vectores utilizando matrices?\n",
    "Cuando aplicamos la matriz A al vector v, podemos ver el cambio que se produce. Primero, realizamos el cálculo del producto interno:\n",
    "\n",
    "v_transformado = A.dot(v)\n",
    "graficar_vectores([v.flatten(), v_transformado.flatten()], ['blue', 'orange'])\n",
    "Aquí, graficamos el vector original v junto con el vector v_transformado para observar la transformación visualmente, comparando sus posiciones y direcciones.\n",
    "\n",
    "¿Por qué es importante entender estas transformaciones en Aprendizaje Automático?\n",
    "Las transformaciones de matrices son fundamentales en el aprendizaje automático, especialmente cuando trabajamos con imágenes o datos que tienen representaciones matriciales. Las matrices permiten transformar estos datos de manera que pueden ser procesados más eficientemente por algoritmos de Deep Learning o Machine Learning.\n",
    "\n",
    "Entender las representaciones de vectores y matrices y cómo podemos alargar, rotar o modificar su escala es clave para manipular datos estructurados como imágenes, en las cuales cada pixel puede ser parte de una matriz mayor. Cuando llevamos matrices a vectores, este proceso se llama \"flatten\" y es crucial para el tratamiento de datos en modelos computacionales.\n",
    "\n",
    "¿Qué papel juegan los determinantes en estas transformaciones?\n",
    "El determinante de una matriz nos ofrece información valiosa sobre la transformación. Un determinante negativo (como el -4 en nuestro ejemplo) puede indicarnos que la transformación involucra una inversión o un giro. Por otro lado, si las normas de los vectores antes y después de la transformación se mantienen iguales, puede señalar que hay vectores en el espacio que no cambian su longitud.\n",
    "\n",
    "determinante = np.linalg.det(A)\n",
    "print(f\"Determinante de la matriz A: {determinante}\")\n",
    "En esta exploración, continuamos profundizando en cómo las operaciones de matriz y producto escalar nos ayudan a dar forma a datos y patrones, sentando las bases para descubrimientos más intrincados en el vasto campo del análisis de datos y Machine Learning."
   ]
  },
  {
   "cell_type": "code",
   "execution_count": 33,
   "metadata": {},
   "outputs": [],
   "source": [
    "%matplotlib inline\n",
    "\n",
    "import numpy as np\n",
    "import matplotlib.pyplot as plt"
   ]
  },
  {
   "cell_type": "code",
   "execution_count": 34,
   "metadata": {},
   "outputs": [
    {
     "name": "stdout",
     "output_type": "stream",
     "text": [
      "[[-1  3]\n",
      " [ 2 -2]]\n"
     ]
    }
   ],
   "source": [
    "A = np.array([[-1,3], [2,-2]])\n",
    "print(A)"
   ]
  },
  {
   "cell_type": "code",
   "execution_count": 35,
   "metadata": {},
   "outputs": [
    {
     "name": "stdout",
     "output_type": "stream",
     "text": [
      "[[2]\n",
      " [1]]\n"
     ]
    }
   ],
   "source": [
    "vector = np.array([[2],[1]])\n",
    "print(vector)"
   ]
  },
  {
   "cell_type": "code",
   "execution_count": 36,
   "metadata": {},
   "outputs": [],
   "source": [
    "%run \"./funciones/graficarVectores.ipynb\""
   ]
  },
  {
   "cell_type": "code",
   "execution_count": 37,
   "metadata": {},
   "outputs": [
    {
     "name": "stdout",
     "output_type": "stream",
     "text": [
      "[[2]\n",
      " [1]]\n",
      "[2 1]\n"
     ]
    }
   ],
   "source": [
    "print(vector)\n",
    "print(vector.flatten())"
   ]
  },
  {
   "cell_type": "code",
   "execution_count": 38,
   "metadata": {},
   "outputs": [
    {
     "name": "stdout",
     "output_type": "stream",
     "text": [
      "[[-1  3]\n",
      " [ 2 -2]]\n",
      "[-1  3  2 -2]\n"
     ]
    }
   ],
   "source": [
    "print(A)\n",
    "print(A.flatten())\n"
   ]
  },
  {
   "cell_type": "code",
   "execution_count": 39,
   "metadata": {},
   "outputs": [
    {
     "data": {
      "text/plain": [
       "(-0.5, 2.0)"
      ]
     },
     "execution_count": 39,
     "metadata": {},
     "output_type": "execute_result"
    },
    {
     "data": {
      "image/png": "[encoded data removed]",
      "text/plain": [
       "<Figure size 640x480 with 1 Axes>"
      ]
     },
     "metadata": {},
     "output_type": "display_data"
    }
   ],
   "source": [
    "graficarVectores([vector.flatten()], cols = 'blue')\n",
    "\n",
    "plt.xlim(-0.5, 3)\n",
    "plt.ylim(-0.5, 2)"
   ]
  },
  {
   "cell_type": "code",
   "execution_count": 40,
   "metadata": {},
   "outputs": [
    {
     "name": "stdout",
     "output_type": "stream",
     "text": [
      "[[1]\n",
      " [2]]\n"
     ]
    }
   ],
   "source": [
    "vector_transformado = A.dot(vector)\n",
    "print(vector_transformado)"
   ]
  },
  {
   "cell_type": "code",
   "execution_count": 41,
   "metadata": {},
   "outputs": [
    {
     "data": {
      "text/plain": [
       "(-0.5, 2.5)"
      ]
     },
     "execution_count": 41,
     "metadata": {},
     "output_type": "execute_result"
    },
    {
     "data": {
      "image/png": "[encoded data removed]",
      "text/plain": [
       "<Figure size 640x480 with 1 Axes>"
      ]
     },
     "metadata": {},
     "output_type": "display_data"
    }
   ],
   "source": [
    "graficarVectores([vector.flatten(), vector_transformado.flatten()],\n",
    "                 cols = ['blue', 'orange'])\n",
    "\n",
    "plt.xlim(-0.5, 2.5)\n",
    "plt.ylim(-0.5, 2.5)"
   ]
  },
  {
   "cell_type": "code",
   "execution_count": 42,
   "metadata": {},
   "outputs": [
    {
     "name": "stdout",
     "output_type": "stream",
     "text": [
      "-4.0\n"
     ]
    }
   ],
   "source": [
    "print(np.linalg.det(A))"
   ]
  },
  {
   "cell_type": "code",
   "execution_count": 43,
   "metadata": {},
   "outputs": [
    {
     "name": "stdout",
     "output_type": "stream",
     "text": [
      "2.23606797749979\n",
      "2.23606797749979\n"
     ]
    }
   ],
   "source": [
    "print(np.linalg.norm(vector))\n",
    "print(np.linalg.norm(vector_transformado))"
   ]
  },
  {
   "cell_type": "code",
   "execution_count": null,
   "metadata": {},
   "outputs": [],
   "source": []
  }
 ],
 "metadata": {
  "kernelspec": {
   "display_name": "DE",
   "language": "python",
   "name": "python3"
  },
  "language_info": {
   "codemirror_mode": {
    "name": "ipython",
    "version": 3
   },
   "file_extension": ".py",
   "mimetype": "text/x-python",
   "name": "python",
   "nbconvert_exporter": "python",
   "pygments_lexer": "ipython3",
   "version": "3.10.16"
  }
 },
 "nbformat": 4,
 "nbformat_minor": 2
}
