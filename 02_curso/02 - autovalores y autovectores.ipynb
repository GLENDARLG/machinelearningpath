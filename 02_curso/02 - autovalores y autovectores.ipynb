{
 "cells": [
  {
   "cell_type": "markdown",
   "metadata": {},
   "source": [
    "\n",
    "¿Qué son las transformaciones lineales y cómo afectan a los vectores?\n",
    "Las transformaciones lineales son un concepto fundamental en álgebra lineal, el cual describe cómo un vector puede ser manipulado por una matriz para cambiar de dirección o magnitud. Este proceso es crucial en muchos campos, como la física, la computación gráfica o la inteligencia artificial. Un auto-víctor particular es un vector que, cuando se le aplica una transformación, mantiene su dirección original, aunque su amplitud puede variar tras ser multiplicado por un autovalor.\n",
    "\n",
    "¿Cómo podemos graficar transformaciones lineales?\n",
    "Para visualizar cómo una matriz transforma un vector, podemos utilizar herramientas de gráficos en Python. Aquí, importamos las bibliotecas necesarias para esta tarea, que incluyen numpy como np y matplotlib.\n",
    "\n",
    "import numpy as np\n",
    "import matplotlib.pyplot as plt\n",
    "\n",
    "def graficar_vectores(vectores, colores, límites):\n",
    "    plt.figure()\n",
    "    plt.axvline(x=0, color='grey', lw=2)\n",
    "    plt.axhline(y=0, color='grey', lw=2)\n",
    "    for i in range(len(vectores)):\n",
    "        x = np.array([0, vectores[i][0]])\n",
    "        y = np.array([0, vectores[i][1]])\n",
    "        plt.quiver(x[0], y[0], x[1], y[1], angles='xy', scale_units='xy', scale=1, color=colores[i])\n",
    "    plt.xlim(límites['x'])\n",
    "    plt.ylim(límites['y'])\n",
    "    plt.grid()\n",
    "    plt.show()\n",
    "¿Cómo encontrar autovectores y autovalores?\n",
    "Para hallar un autovector, debemos encontrar un vector que no cambie su dirección tras aplicarle una matriz de transformación. Este proceso también implica determinar el autovalor asociado.\n",
    "\n",
    "Ejemplo de cálculo\n",
    "Supongamos que tenemos la siguiente matriz y vector:\n",
    "\n",
    "A = np.array([[3, 2], [4, 1]])\n",
    "v = np.array([1, 1])\n",
    "Para encontrar el vector transformado, aplicamos el producto interno a v:\n",
    "\n",
    "v_transformado = np.dot(A, v)\n",
    "Esto nos devuelve un nuevo vector que podemos graficar junto al original para observar las diferencias.\n",
    "\n",
    "Cálculo del autovalor\n",
    "Los resultados del producto pueden interpretarse para encontrar el autovalor:\n",
    "\n",
    "Si v_transformado es un múltiplo de v, entonces el factor de multiplicación es el autovalor.\n",
    "En este ejemplo, si v_transformado resulta ser [5, 5], entonces el autovalor sería 5.\n",
    "\n",
    "Visualización de vectores originales y transformados\n",
    "Para demostrar la teoría, graficamos los vectores usando colores distintos para diferenciar entre vectores originales y transformados:\n",
    "\n",
    "colores = ['#FF9A13', '#1190FF']  # Naranja y azul claro\n",
    "límites = {'x': [-1, 6], 'y': [-1, 6]}\n",
    "graficar_vectores([v, v_transformado], colores, límites)\n",
    "Esta representación visual muestra claramente el cambio en la magnitud o sentido del vector tras la transformación.\n",
    "\n",
    "¿Cuántos autovectores puede tener una matriz?\n",
    "En una matriz 2x2, como en nuestro ejemplo, podemos encontrar hasta dos autovectores con sus respectivos autovalores. Esto significa que hay dos direcciones distintas que, al ser transformadas, conservan su dirección dentro de la misma transformación.\n",
    "\n",
    "Al explorar estos conceptos, enriquecemos nuestra comprensión del álgebra lineal y su aplicación práctica en la resolución de problemas complejos, alentando a los estudiantes a continuar mejorando su habilidad y abriendo la puerta a más aplicaciones matemáticas."
   ]
  },
  {
   "cell_type": "code",
   "execution_count": 5,
   "metadata": {},
   "outputs": [],
   "source": [
    "%matplotlib inline\n",
    "\n",
    "import numpy as np\n",
    "import matplotlib.pyplot as plt"
   ]
  },
  {
   "cell_type": "code",
   "execution_count": 6,
   "metadata": {},
   "outputs": [],
   "source": [
    "%run \"./funciones/graficarVectores.ipynb\""
   ]
  },
  {
   "cell_type": "code",
   "execution_count": 7,
   "metadata": {},
   "outputs": [],
   "source": [
    "orange_light = '#FF9A13'\n",
    "blue_light = '#1190FF'"
   ]
  },
  {
   "cell_type": "code",
   "execution_count": 8,
   "metadata": {},
   "outputs": [
    {
     "name": "stdout",
     "output_type": "stream",
     "text": [
      "[[3 2]\n",
      " [4 1]]\n"
     ]
    }
   ],
   "source": [
    "X = np.array([[3, 2], [4, 1]])\n",
    "print(X)"
   ]
  },
  {
   "cell_type": "code",
   "execution_count": 9,
   "metadata": {},
   "outputs": [
    {
     "name": "stdout",
     "output_type": "stream",
     "text": [
      "[[1]\n",
      " [1]]\n"
     ]
    }
   ],
   "source": [
    "v = np.array([[1], [1]])\n",
    "print(v)"
   ]
  },
  {
   "cell_type": "code",
   "execution_count": 10,
   "metadata": {},
   "outputs": [
    {
     "name": "stdout",
     "output_type": "stream",
     "text": [
      "[[5]\n",
      " [5]]\n"
     ]
    }
   ],
   "source": [
    "u = X.dot(v)\n",
    "print(u)"
   ]
  },
  {
   "cell_type": "code",
   "execution_count": 11,
   "metadata": {},
   "outputs": [
    {
     "data": {
      "text/plain": [
       "(-1.0, 6.0)"
      ]
     },
     "execution_count": 11,
     "metadata": {},
     "output_type": "execute_result"
    },
    {
     "data": {
      "image/png": "[encoded data removed]",
      "text/plain": [
       "<Figure size 640x480 with 1 Axes>"
      ]
     },
     "metadata": {},
     "output_type": "display_data"
    }
   ],
   "source": [
    "graficarVectores([u.flatten(), v.flatten()], cols=[orange_light, blue_light])\n",
    "\n",
    "plt.xlim(-1, 6)\n",
    "plt.ylim(-1, 6)"
   ]
  },
  {
   "cell_type": "code",
   "execution_count": 12,
   "metadata": {},
   "outputs": [
    {
     "data": {
      "text/plain": [
       "array([[5],\n",
       "       [5]])"
      ]
     },
     "execution_count": 12,
     "metadata": {},
     "output_type": "execute_result"
    }
   ],
   "source": [
    "lambda_1 = 5\n",
    "\n",
    "lambda_1 * v"
   ]
  },
  {
   "cell_type": "code",
   "execution_count": 13,
   "metadata": {},
   "outputs": [
    {
     "name": "stdout",
     "output_type": "stream",
     "text": [
      "[[-1]\n",
      " [ 2]]\n"
     ]
    }
   ],
   "source": [
    "s = np.array([[-1], [2]])\n",
    "print(s)"
   ]
  },
  {
   "cell_type": "code",
   "execution_count": 14,
   "metadata": {},
   "outputs": [
    {
     "name": "stdout",
     "output_type": "stream",
     "text": [
      "[[ 1]\n",
      " [-2]]\n"
     ]
    }
   ],
   "source": [
    "t = X.dot(s)\n",
    "print(t)"
   ]
  },
  {
   "cell_type": "code",
   "execution_count": 15,
   "metadata": {},
   "outputs": [
    {
     "data": {
      "text/plain": [
       "(-3.0, 3.0)"
      ]
     },
     "execution_count": 15,
     "metadata": {},
     "output_type": "execute_result"
    },
    {
     "data": {
      "image/png": "[encoded data removed]",
      "text/plain": [
       "<Figure size 640x480 with 1 Axes>"
      ]
     },
     "metadata": {},
     "output_type": "display_data"
    }
   ],
   "source": [
    "graficarVectores([t.flatten(), s.flatten()], cols=[orange_light, blue_light])\n",
    "\n",
    "plt.xlim(-3,3)\n",
    "plt.ylim(-3,3)"
   ]
  },
  {
   "cell_type": "code",
   "execution_count": null,
   "metadata": {},
   "outputs": [],
   "source": []
  }
 ],
 "metadata": {
  "kernelspec": {
   "display_name": "DE",
   "language": "python",
   "name": "python3"
  },
  "language_info": {
   "codemirror_mode": {
    "name": "ipython",
    "version": 3
   },
   "file_extension": ".py",
   "mimetype": "text/x-python",
   "name": "python",
   "nbconvert_exporter": "python",
   "pygments_lexer": "ipython3",
   "version": "3.10.16"
  }
 },
 "nbformat": 4,
 "nbformat_minor": 2
}
