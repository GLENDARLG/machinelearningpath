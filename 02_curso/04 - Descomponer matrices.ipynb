{
 "cells": [
  {
   "cell_type": "markdown",
   "metadata": {},
   "source": [
    "Qué significa descomponer una matriz?\n",
    "Descomponer una matriz implica encontrar una o más matrices que, al multiplicarlas, nos permitan recrear la matriz original, cumpliendo con ciertas propiedades. Un ejemplo sencillo es el número 6, que puede descomponerse como 3x2, donde 3 y 2 tienen la propiedad de ser números primos. Aplicado a matrices, buscamos matrices componentes que nos faciliten ciertos cálculos o análisis.\n",
    "\n",
    "¿Cómo se realiza la descomposición usando autovalores y autovectores?\n",
    "Para realizar la descomposición de una matriz utilizando autovalores y autovectores, seguimos un proceso sistemático. Supongamos que tenemos una matriz A. Este proceso consta de varios pasos:\n",
    "\n",
    "Determinación de autovalores y autovectores:\n",
    "\n",
    "Calculamos los autovalores ((\\lambda)) y los autovectores (v) de la matriz.\n",
    "Construcción de la matriz diagonal:\n",
    "\n",
    "Creamos una matriz diagonal que contiene todos los autovalores.\n",
    "Composición de la matriz original:\n",
    "\n",
    "Escribimos la matriz A como el producto de la matriz de autovectores, la matriz diagonal de autovalores, y la inversa de la matriz de autovectores.\n",
    "Ejemplo práctico con código\n",
    "import numpy as np\n",
    "\n",
    "# Definimos la matriz A\n",
    "A = np.array([[3, 2], [4, 1]])\n",
    "\n",
    "# Calculamos autovalores y autovectores\n",
    "autovalores, autovectores = np.linalg.eig(A)\n",
    "\n",
    "# Mostramos resultados\n",
    "print(\"Autovalores:\", autovalores)\n",
    "print(\"Autovectores:\\n\", autovectores)\n",
    "\n",
    "# Composición de la matriz original\n",
    "matrizA_calculada = np.dot(autovectores, np.dot(np.diag(autovalores), np.linalg.inv(autovectores)))\n",
    "print(\"Matriz Calculada:\\n\", matrizA_calculada)\n",
    "Al ejecutar este código, deberías observar que la matriz calculada es idéntica a la matriz original, lo que confirma que la descomposición ha sido exitosa.\n",
    "\n",
    "¿Qué beneficios tiene usar matrices simétricas reales?\n",
    "Cuando trabajamos con matrices simétricas reales, las propiedades de estas matrices nos ofrecen ventajas computacionales importantes. Estas matrices cumplen con que A es igual a su transpuesta ((A = A^T)), lo que implica que en lugar de calcular su inversa, podemos trabajar con su transpuesta.\n",
    "\n",
    "Uso de matrices simétricas en descomposiciones\n",
    "Renovación del proceso de descomposición:\n",
    "\n",
    "Si la matriz es simétrica, podemos reformular nuestra descomposición usando la transpuesta de los autovectores en lugar de su inversa.\n",
    "Ejecución del cálculo:\n",
    "\n",
    "Esta forma es no solo más fácil de calcular, sino también más eficiente en términos computacionales.\n",
    "Ejemplo de matriz simétrica\n",
    "# Definimos una matriz simétrica\n",
    "A_sim = np.array([[3, 2], [2, 3]])\n",
    "\n",
    "# Calculamos autovalores y autovectores\n",
    "autovalores, autovectores = np.linalg.eig(A_sim)\n",
    "\n",
    "# Composición con transpuesta\n",
    "resultante_sim = np.dot(autovectores, np.dot(np.diag(autovalores), autovectores.T))\n",
    "print(\"Matriz Simétrica Calculada:\\n\", resultante_sim)\n",
    "Con este método, verificamos que obtenemos la matriz original sin tener que calcular una inversa, lo cual es especialmente útil para aplicaciones que requieren rapidez y eficiencia.\n",
    "\n",
    "Ventajas y recomendaciones\n",
    "Eficiencia Computacional: Utilizar matrices simétricas o trabajar con matrices que nos permitan evitar la inversa nos brinda ventajas de velocidad y precisión.\n",
    "Simplicidad de Cálculo: Usar la transpuesta es más sencillo y fiable que la calculadora inversa de matrices.\n",
    "Aquellos que buscan optimizar procesos donde las matrices juegan un papel crucial deben considerar estas metodologías para lograr resultados efectivos y robustos. Continúa explorando esta área fascinante y sigue fortaleciendo tus habilidades matemáticas y computacionales para destacar en el análisis de matrices."
   ]
  },
  {
   "cell_type": "code",
   "execution_count": null,
   "metadata": {},
   "outputs": [],
   "source": [
    "import numpy as np"
   ]
  },
  {
   "cell_type": "code",
   "execution_count": 2,
   "metadata": {},
   "outputs": [
    {
     "name": "stdout",
     "output_type": "stream",
     "text": [
      "[[3 2]\n",
      " [4 1]]\n"
     ]
    }
   ],
   "source": [
    "A = np.array([[3, 2], [4, 1]])\n",
    "print(A)"
   ]
  },
  {
   "cell_type": "code",
   "execution_count": 3,
   "metadata": {},
   "outputs": [],
   "source": [
    "autovalores ,autovectores = np.linalg.eig(A)\n"
   ]
  },
  {
   "cell_type": "code",
   "execution_count": 4,
   "metadata": {},
   "outputs": [
    {
     "name": "stdout",
     "output_type": "stream",
     "text": [
      "[ 5. -1.]\n",
      "[[ 0.70710678 -0.4472136 ]\n",
      " [ 0.70710678  0.89442719]]\n"
     ]
    }
   ],
   "source": [
    "print(autovalores)\n",
    "print(autovectores)"
   ]
  },
  {
   "cell_type": "code",
   "execution_count": 5,
   "metadata": {},
   "outputs": [],
   "source": [
    "A_calc = autovectores.dot(np.diag(autovalores)).dot(np.linalg.inv(autovectores))"
   ]
  },
  {
   "cell_type": "code",
   "execution_count": 6,
   "metadata": {},
   "outputs": [
    {
     "name": "stdout",
     "output_type": "stream",
     "text": [
      "[[3. 2.]\n",
      " [4. 1.]]\n"
     ]
    }
   ],
   "source": [
    "print(A_calc)"
   ]
  },
  {
   "cell_type": "code",
   "execution_count": 7,
   "metadata": {},
   "outputs": [
    {
     "name": "stdout",
     "output_type": "stream",
     "text": [
      "[[3 2]\n",
      " [2 3]]\n"
     ]
    }
   ],
   "source": [
    "A = np.array([[3,2], [2,3]])\n",
    "print(A)"
   ]
  },
  {
   "cell_type": "code",
   "execution_count": 8,
   "metadata": {},
   "outputs": [
    {
     "name": "stdout",
     "output_type": "stream",
     "text": [
      "[[ True  True]\n",
      " [ True  True]]\n"
     ]
    }
   ],
   "source": [
    "print(A == A.T)"
   ]
  },
  {
   "cell_type": "code",
   "execution_count": 9,
   "metadata": {},
   "outputs": [
    {
     "name": "stdout",
     "output_type": "stream",
     "text": [
      "[5. 1.]\n",
      "[[ 0.70710678 -0.70710678]\n",
      " [ 0.70710678  0.70710678]]\n"
     ]
    }
   ],
   "source": [
    "autovalores ,autovectores = np.linalg.eig(A)\n",
    "print(autovalores)\n",
    "print(autovectores)"
   ]
  },
  {
   "cell_type": "code",
   "execution_count": 10,
   "metadata": {},
   "outputs": [
    {
     "name": "stdout",
     "output_type": "stream",
     "text": [
      "[[3. 2.]\n",
      " [2. 3.]]\n"
     ]
    }
   ],
   "source": [
    "A_calc = autovectores.dot(np.diag(autovalores)).dot(autovectores.T)\n",
    "print(A_calc)"
   ]
  },
  {
   "cell_type": "code",
   "execution_count": null,
   "metadata": {},
   "outputs": [],
   "source": []
  }
 ],
 "metadata": {
  "kernelspec": {
   "display_name": "Python 3",
   "language": "python",
   "name": "python3"
  },
  "language_info": {
   "codemirror_mode": {
    "name": "ipython",
    "version": 3
   },
   "file_extension": ".py",
   "mimetype": "text/x-python",
   "name": "python",
   "nbconvert_exporter": "python",
   "pygments_lexer": "ipython3",
   "version": "3.7.4"
  }
 },
 "nbformat": 4,
 "nbformat_minor": 2
}
