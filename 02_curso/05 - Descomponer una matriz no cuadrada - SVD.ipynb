{
 "cells": [
  {
   "cell_type": "markdown",
   "metadata": {},
   "source": [
    "Qué significa descomponer una matriz?\n",
    "Descomponer una matriz implica encontrar una o más matrices que, al multiplicarlas, nos permitan recrear la matriz original, cumpliendo con ciertas propiedades. Un ejemplo sencillo es el número 6, que puede descomponerse como 3x2, donde 3 y 2 tienen la propiedad de ser números primos. Aplicado a matrices, buscamos matrices componentes que nos faciliten ciertos cálculos o análisis.\n",
    "\n",
    "¿Cómo se realiza la descomposición usando autovalores y autovectores?\n",
    "Para realizar la descomposición de una matriz utilizando autovalores y autovectores, seguimos un proceso sistemático. Supongamos que tenemos una matriz A. Este proceso consta de varios pasos:\n",
    "\n",
    "Determinación de autovalores y autovectores:\n",
    "\n",
    "Calculamos los autovalores ((\\lambda)) y los autovectores (v) de la matriz.\n",
    "Construcción de la matriz diagonal:\n",
    "\n",
    "Creamos una matriz diagonal que contiene todos los autovalores.\n",
    "Composición de la matriz original:\n",
    "\n",
    "Escribimos la matriz A como el producto de la matriz de autovectores, la matriz diagonal de autovalores, y la inversa de la matriz de autovectores.\n",
    "Ejemplo práctico con código\n",
    "import numpy as np\n",
    "\n",
    "# Definimos la matriz A\n",
    "A = np.array([[3, 2], [4, 1]])\n",
    "\n",
    "# Calculamos autovalores y autovectores\n",
    "autovalores, autovectores = np.linalg.eig(A)\n",
    "\n",
    "# Mostramos resultados\n",
    "print(\"Autovalores:\", autovalores)\n",
    "print(\"Autovectores:\\n\", autovectores)\n",
    "\n",
    "# Composición de la matriz original\n",
    "matrizA_calculada = np.dot(autovectores, np.dot(np.diag(autovalores), np.linalg.inv(autovectores)))\n",
    "print(\"Matriz Calculada:\\n\", matrizA_calculada)\n",
    "Al ejecutar este código, deberías observar que la matriz calculada es idéntica a la matriz original, lo que confirma que la descomposición ha sido exitosa.\n",
    "\n",
    "¿Qué beneficios tiene usar matrices simétricas reales?\n",
    "Cuando trabajamos con matrices simétricas reales, las propiedades de estas matrices nos ofrecen ventajas computacionales importantes. Estas matrices cumplen con que A es igual a su transpuesta ((A = A^T)), lo que implica que en lugar de calcular su inversa, podemos trabajar con su transpuesta.\n",
    "\n",
    "Uso de matrices simétricas en descomposiciones\n",
    "Renovación del proceso de descomposición:\n",
    "\n",
    "Si la matriz es simétrica, podemos reformular nuestra descomposición usando la transpuesta de los autovectores en lugar de su inversa.\n",
    "Ejecución del cálculo:\n",
    "\n",
    "Esta forma es no solo más fácil de calcular, sino también más eficiente en términos computacionales.\n",
    "Ejemplo de matriz simétrica\n",
    "# Definimos una matriz simétrica\n",
    "A_sim = np.array([[3, 2], [2, 3]])\n",
    "\n",
    "# Calculamos autovalores y autovectores\n",
    "autovalores, autovectores = np.linalg.eig(A_sim)\n",
    "\n",
    "# Composición con transpuesta\n",
    "resultante_sim = np.dot(autovectores, np.dot(np.diag(autovalores), autovectores.T))\n",
    "print(\"Matriz Simétrica Calculada:\\n\", resultante_sim)\n",
    "Con este método, verificamos que obtenemos la matriz original sin tener que calcular una inversa, lo cual es especialmente útil para aplicaciones que requieren rapidez y eficiencia.\n",
    "\n",
    "Ventajas y recomendaciones\n",
    "Eficiencia Computacional: Utilizar matrices simétricas o trabajar con matrices que nos permitan evitar la inversa nos brinda ventajas de velocidad y precisión.\n",
    "Simplicidad de Cálculo: Usar la transpuesta es más sencillo y fiable que la calculadora inversa de matrices.\n",
    "Aquellos que buscan optimizar procesos donde las matrices juegan un papel crucial deben considerar estas metodologías para lograr resultados efectivos y robustos. Continúa explorando esta área fascinante y sigue fortaleciendo tus habilidades matemáticas y computacionales para destacar en el análisis de matrices."
   ]
  },
  {
   "cell_type": "code",
   "execution_count": 2,
   "metadata": {},
   "outputs": [],
   "source": [
    "import numpy as np"
   ]
  },
  {
   "cell_type": "code",
   "execution_count": 3,
   "metadata": {},
   "outputs": [
    {
     "name": "stdout",
     "output_type": "stream",
     "text": [
      "[[1 2 3]\n",
      " [3 4 5]]\n"
     ]
    }
   ],
   "source": [
    "A = np.array([[1,2,3], [3,4,5]])\n",
    "print(A)"
   ]
  },
  {
   "cell_type": "code",
   "execution_count": 4,
   "metadata": {},
   "outputs": [],
   "source": [
    "U, D, V = np.linalg.svd(A)"
   ]
  },
  {
   "cell_type": "code",
   "execution_count": 5,
   "metadata": {},
   "outputs": [
    {
     "name": "stdout",
     "output_type": "stream",
     "text": [
      "[[-0.46410668  0.88577931]\n",
      " [-0.88577931 -0.46410668]]\n"
     ]
    }
   ],
   "source": [
    "print(U)"
   ]
  },
  {
   "cell_type": "code",
   "execution_count": 6,
   "metadata": {},
   "outputs": [
    {
     "name": "stdout",
     "output_type": "stream",
     "text": [
      "[7.97638869 0.61418515]\n"
     ]
    }
   ],
   "source": [
    "print(D)"
   ]
  },
  {
   "cell_type": "code",
   "execution_count": 7,
   "metadata": {},
   "outputs": [
    {
     "name": "stdout",
     "output_type": "stream",
     "text": [
      "[[7.97638869 0.        ]\n",
      " [0.         0.61418515]]\n"
     ]
    }
   ],
   "source": [
    "print(np.diag(D))"
   ]
  },
  {
   "cell_type": "code",
   "execution_count": 8,
   "metadata": {},
   "outputs": [
    {
     "name": "stdout",
     "output_type": "stream",
     "text": [
      "[[-0.39133557 -0.5605708  -0.72980603]\n",
      " [-0.8247362  -0.13817999  0.54837623]\n",
      " [ 0.40824829 -0.81649658  0.40824829]]\n"
     ]
    }
   ],
   "source": [
    "print(V)"
   ]
  },
  {
   "cell_type": "code",
   "execution_count": null,
   "metadata": {},
   "outputs": [],
   "source": []
  }
 ],
 "metadata": {
  "kernelspec": {
   "display_name": "DE",
   "language": "python",
   "name": "python3"
  },
  "language_info": {
   "codemirror_mode": {
    "name": "ipython",
    "version": 3
   },
   "file_extension": ".py",
   "mimetype": "text/x-python",
   "name": "python",
   "nbconvert_exporter": "python",
   "pygments_lexer": "ipython3",
   "version": "3.10.16"
  }
 },
 "nbformat": 4,
 "nbformat_minor": 2
}
